{
  "cells": [
    {
      "cell_type": "markdown",
      "metadata": {
        "id": "Tp3f8KqS6EkU"
      },
      "source": [
        "# Use torch.distributions in all the below questions"
      ]
    },
    {
      "cell_type": "markdown",
      "metadata": {
        "id": "wnLgesrdCkNy"
      },
      "source": [
        "## Imports"
      ]
    },
    {
      "cell_type": "code",
      "execution_count": 5,
      "metadata": {
        "id": "SdH-jjtFCpwP"
      },
      "outputs": [],
      "source": [
        "import torch\n",
        "import matplotlib.pyplot as plt\n",
        "import pandas as pd\n",
        "import numpy as np\n",
        "import random\n",
        "from collections import Counter\n",
        "import ipywidgets as widgets\n",
        "from ipywidgets import interact"
      ]
    },
    {
      "cell_type": "markdown",
      "metadata": {
        "id": "w-ns1yr79Egr"
      },
      "source": [
        "# 1. **Random Variables**"
      ]
    },
    {
      "cell_type": "markdown",
      "metadata": {
        "id": "D79sOX3_-CQI"
      },
      "source": [
        "#### Q1. (**Mandatory**)\n",
        "Write a Python function that simulates rolling two six-sided dice and returns their sum. Use this function to perform 10,000 simulations. Calculate and print:\n",
        "\n",
        "a) The experimental probability of rolling a sum of 7 <br/>\n",
        "b) The experimental probability of rolling a sum of 2 or 12<br/>\n",
        "\n",
        "Compare these experimental probabilities with the theoretical probabilities. What conclusions can you draw about the accuracy of the simulation?"
      ]
    },
    {
      "cell_type": "code",
      "execution_count": 6,
      "metadata": {},
      "outputs": [
        {
          "name": "stdout",
          "output_type": "stream",
          "text": [
            "Experimental\n",
            "P[sum=7]=0.1659\n",
            "P[sum=7 or sum=12]=0.056400000000000006\n",
            "Theoretical\n",
            "P[sum=7]=0.16666666666666666\n",
            "P[sum=7 or sum=12]=0.05555555555555555\n"
          ]
        }
      ],
      "source": [
        "def two_rolling_die():\n",
        "    # We take sum as our Categorical Random variable\n",
        "    N = 10000\n",
        "    probs = [1/36, 2/36, 3/36, 4/36, 5/36, 6/36, 5/36, 4/36, 3/36, 2/36, 1/36]\n",
        "    data = torch.distributions.Categorical(probs=torch.tensor(probs))\n",
        "    support = torch.arange(2,13)\n",
        "    samples = support[data.sample((N,))]\n",
        "    samples = pd.DataFrame(samples)\n",
        "    #a) Prob of sum = 7\n",
        "    print(\"Experimental\")\n",
        "    print(f\"P[sum=7]={samples.value_counts()[7]/N}\")\n",
        "    #b) Prob sum = 2 or 12\n",
        "    print(f\"P[sum=7 or sum=12]={samples.value_counts()[2]/N + samples.value_counts()[12]/N}\")\n",
        "    print(\"Theoretical\")\n",
        "    print(f\"P[sum=7]={probs[7-2]}\")\n",
        "    print(f\"P[sum=7 or sum=12]={probs[2-2]+probs[12-2]}\")\n",
        "two_rolling_die()"
      ]
    },
    {
      "cell_type": "markdown",
      "metadata": {},
      "source": [
        "The simulation is fairly accurate (till 2 decimal places). If we would have taken more samples the accuracy would have increased. As samples size approaches infinity, the Experimental value approaches Theoretical value. "
      ]
    },
    {
      "cell_type": "markdown",
      "metadata": {
        "id": "lFX2mG1m9I2h"
      },
      "source": [
        "#### Q2. (Optional)\n",
        "Write a function coin_toss(n) that simulates flipping a coin n times, returning a list of 'H' (Heads) and 'T' (Tails). Then, write a function count_heads(flips) that takes the list of flips and returns the number of heads (this is your random variable, X). Finally, simulate 10 coin tosses and print the outcome of the coin tosses and the number of heads.\n"
      ]
    },
    {
      "cell_type": "code",
      "execution_count": null,
      "metadata": {},
      "outputs": [
        {
          "name": "stdout",
          "output_type": "stream",
          "text": [
            "Outcome is:  ['H', 'T', 'T', 'T', 'T', 'T', 'H', 'T', 'T', 'H']\n",
            "No of heads:  3\n"
          ]
        }
      ],
      "source": [
        "def coin_toss(n):\n",
        "    def ht(x): return \"H\" if(x==1) else \"T\"\n",
        "    p = 0.5\n",
        "    dist = torch.distributions.Bernoulli(p)\n",
        "    trials = [ht(dist.sample()) for i in range(1,n+1)]\n",
        "    return trials\n",
        "def count_heads(trials):\n",
        "    return pd.Series(trials).value_counts()[\"H\"].item()\n",
        "n1 = 10\n",
        "trials = coin_toss(n1) \n",
        "print(\"Outcome is: \",trials)\n",
        "print(\"No of heads: \",count_heads(trials))"
      ]
    },
    {
      "cell_type": "markdown",
      "metadata": {
        "id": "h_5pdoy3-vzt"
      },
      "source": [
        "#### Q3. (Optional)\n",
        "#### Coin Flip Simulation and Inverse Mapping Check\n",
        "\n",
        "Using the `coin_toss(n)` and `count_heads(flips)` functions from Question 1, simulate **n = 4** coin flips.  \n",
        "\n",
        "Then, given a value **a**, write a function `check_inverse_mapping(flips, a)` that checks whether the number of heads in the simulated coin flips equals **a**. In other words, verify if:  \n",
        "\n",
        "$$\n",
        "X(\\xi) = a\n",
        "$$\n",
        "\n",
        "where:  \n",
        "- **$X$** represents the function that counts the number of heads in the sequence.  \n",
        "- **$\\xi$** is the outcome of the 4 coin flips.  \n",
        "\n",
        "The function should print whether **$X(\\xi) = a$** is **True or False**.  \n",
        "Finally, test the function with **a = 2**.  \n"
      ]
    },
    {
      "cell_type": "code",
      "execution_count": 51,
      "metadata": {},
      "outputs": [
        {
          "data": {
            "text/plain": [
              "False"
            ]
          },
          "execution_count": 51,
          "metadata": {},
          "output_type": "execute_result"
        }
      ],
      "source": [
        "def coin_toss(n):\n",
        "    def ht(x): return \"H\" if(x==1) else \"T\"\n",
        "    p = 0.5\n",
        "    dist = torch.distributions.Bernoulli(p)\n",
        "    trials = [ht(dist.sample()) for i in range(1,n+1)]\n",
        "    return trials\n",
        "def count_heads(trials):\n",
        "    return pd.Series(trials).value_counts()[\"H\"].item()\n",
        "def inverse_mapping(flips,a):\n",
        "    return count_heads(flips) == a\n",
        "n2 = 4\n",
        "a = 2\n",
        "flips = coin_toss(n2)\n",
        "inverse_mapping(flips,a)"
      ]
    },
    {
      "cell_type": "markdown",
      "metadata": {
        "id": "4BR7MiQ8_kYR"
      },
      "source": [
        "# 2. **Probalility Mass function**"
      ]
    },
    {
      "cell_type": "markdown",
      "metadata": {
        "id": "8bhDuutxPGfk"
      },
      "source": [
        "#### Q1. (**Mandatory**)\n",
        "Consider a discrete random variable X with possible values {1, 2, 3, 4, 5}. You are given a function f(x) defined as:\n",
        "\n",
        "$f(x) = c  (x^2 - 6x + 10)$ for x in {1, 2, 3, 4, 5}\n",
        "\n",
        "where c is a constant.\n",
        "\n",
        "Write a Python function is_valid_pmf(f) that:\n",
        "\n",
        "* Determines if f(x) can be a valid PMF for some value of c.\n",
        "\n",
        "* If valid, calculates and returns the value of c that makes f(x) a legitimate PMF.If not valid, returns None and prints why it's not valid.\n",
        "\n",
        "Your function should check both properties of a valid PMF:\n",
        "\n",
        "* Non-negativity for all x\n",
        "\n",
        "* Sum of probabilities equals 1\n",
        "\n",
        "Test your function with the given f(x) and explain your results."
      ]
    },
    {
      "cell_type": "code",
      "execution_count": 8,
      "metadata": {},
      "outputs": [
        {
          "name": "stdout",
          "output_type": "stream",
          "text": [
            "0.06666666666666667\n"
          ]
        }
      ],
      "source": [
        "def func(x): return x**2-6*x+10\n",
        "def is_valid_pmf(f):   \n",
        "    sum = 0\n",
        "    for x in range(1,6):\n",
        "        if(f(x)<0):\n",
        "            print(\"Not a valid PMF, because the function value is -ve at x=\",x)\n",
        "            return None\n",
        "        sum += f(x)\n",
        "    c = 1/sum\n",
        "    return c\n",
        "constant = is_valid_pmf(func)\n",
        "print(constant)"
      ]
    },
    {
      "cell_type": "markdown",
      "metadata": {},
      "source": [
        "We didn't get None on printing c. This means that f(x) can be a valid pmf if c = 0.066...67. If f(x) would have become -ve on any x from the support we would have got None"
      ]
    },
    {
      "cell_type": "markdown",
      "metadata": {
        "id": "uSc5pGGrDkG5"
      },
      "source": [
        "#### Q2. (Optional)\n",
        "Simulate flipping a coin 100 times and calculate the empirical PMF for the number of heads (0 to 100)."
      ]
    },
    {
      "cell_type": "code",
      "execution_count": 132,
      "metadata": {},
      "outputs": [
        {
          "data": {
            "image/png": "[encoded data removed]",
            "text/plain": [
              "<Figure size 640x480 with 1 Axes>"
            ]
          },
          "metadata": {},
          "output_type": "display_data"
        }
      ],
      "source": [
        "def simulate_coin_flips(n,p):\n",
        "    N = 10000\n",
        "    dist = torch.distributions.Bernoulli(p)\n",
        "    samples = dist.sample((N,n)).numpy()\n",
        "    no_of_heads = np.sum(samples,axis=1)\n",
        "    df = pd.DataFrame(no_of_heads,columns=[\"Heads\"]).value_counts().sort_index().to_frame()\n",
        "    df.index = df.index.map(lambda x:x[0])\n",
        "    missing_vals = [i for i in range(1,n+1) if i not in df.index]\n",
        "    df2 = pd.DataFrame([0]*len(missing_vals),index=missing_vals,columns=[\"count\"])\n",
        "    Final_freq = pd.concat([df,df2],axis=0).sort_index()\n",
        "    plt.stem(Final_freq.index,Final_freq['count']/N)\n",
        "    plt.title('PMF of 100 coin flips got by empirical calculation')\n",
        "    plt.xlabel(\"Discrete RV (No of heads in 100 flips)\")\n",
        "    plt.ylabel(\"PMF\")\n",
        "    \n",
        "\n",
        "simulate_coin_flips(100,0.5)"
      ]
    },
    {
      "cell_type": "markdown",
      "metadata": {
        "id": "oQ7AjNPYRn6d"
      },
      "source": [
        "#### Q3. (Optional)\n",
        "\n",
        "A small café records the number of customers visiting per day for a month (30 days). The recorded data is as follows:\n",
        "\n",
        "    customer_counts = [12, 15, 14, 10, 18, 16, 14, 12, 15, 11, 17, 14, 13, 19, 12, 18, 14, 10, 16, 15, 14, 13, 17, 12, 18, 16, 14, 11, 19, 13]\n",
        "Compute the PMF for the given data and plot it using Matplotlib. Identify the most common number of daily customers and compare the distribution."
      ]
    },
    {
      "cell_type": "code",
      "execution_count": 128,
      "metadata": {},
      "outputs": [
        {
          "data": {
            "text/plain": [
              "Text(0.5, 1.0, 'PMF Plot of Given list')"
            ]
          },
          "execution_count": 128,
          "metadata": {},
          "output_type": "execute_result"
        },
        {
          "data": {
            "image/png": "[encoded data removed]",
            "text/plain": [
              "<Figure size 640x480 with 1 Axes>"
            ]
          },
          "metadata": {},
          "output_type": "display_data"
        }
      ],
      "source": [
        "customer_counts = [12, 15, 14, 10, 18, 16, 14, 12, 15, 11, 17, 14, 13, 19, 12, 18, 14, 10, 16, 15, 14, 13, 17, 12, 18, 16, 14, 11, 19, 13]\n",
        "cc = pd.DataFrame(customer_counts,columns=[\"Vals\"]).value_counts().sort_index().to_frame()\n",
        "cc['pmf'] = cc['count']/len(customer_counts)\n",
        "cc.index = cc.index.map(lambda x:x[0])\n",
        "plt.stem(cc.index,cc['pmf'])\n",
        "plt.xlabel(\"Discrete RV\")\n",
        "plt.ylabel(\"PMF\")\n",
        "plt.title(\"PMF Plot of Given list\")"
      ]
    },
    {
      "cell_type": "markdown",
      "metadata": {
        "id": "0oNRCaupqhhl"
      },
      "source": [
        "# 3. **Cumulative Distribution Function**"
      ]
    },
    {
      "cell_type": "markdown",
      "metadata": {
        "id": "HGzuLs8HtPU-"
      },
      "source": [
        "#### Q1. (**Mandatory**)"
      ]
    },
    {
      "cell_type": "markdown",
      "metadata": {
        "id": "Hu2wSoiujR5p"
      },
      "source": [
        "Consider a discrete random variable 𝑋 with possible values 𝑥={1,2,3,4,5} and corresponding probability mass function (PMF):\n",
        "$$ P(X=x)= \\frac{x}{15} ,x∈{1,2,3,4,5}$$\n",
        "\n",
        "where\n",
        "𝑃(𝑋=𝑥) represents the PMF of 𝑋.\n",
        "\n",
        "The Cumulative Distribution Function (CDF) is defined as:\n",
        " $$F_X(x) = P(X≤x)=\\sum_{k≤x}\n",
        " P(X=k)$$\n",
        "\n",
        "\n",
        "Your Task:\n",
        "1. Compute the PMF values for each 𝑥∈{1,2,3,4,5}.\n",
        "2. Compute the CDF $𝐹_X(𝑥)$ for each 𝑥.\n",
        "3. Verify the relationship between PMF and CDF:\n",
        "- $ P(X=x)=F_X(x)−F_X(x−1) $ for all 𝑥≥2.\n",
        "- For 𝑥=1, $𝑃(𝑋=1)=𝐹_𝑋(1)$.\n",
        "4. Print and compare the computed PMF values with the differences in CDF values to confirm the relationship."
      ]
    },
    {
      "cell_type": "code",
      "execution_count": 9,
      "metadata": {},
      "outputs": [
        {
          "name": "stdout",
          "output_type": "stream",
          "text": [
            "P(X=1)=0.067\n",
            "P(X=2)=0.133\n",
            "P(X=3)=0.2\n",
            "P(X=4)=0.267\n",
            "P(X=5)=0.333\n"
          ]
        }
      ],
      "source": [
        "#1.\n",
        "def pmf1(x1): return x1/15 if x1 in range(1,6) else 0\n",
        "for x1 in range(1,6):\n",
        "    print(f\"P(X={x1})={round(pmf1(x1),3)}\")"
      ]
    },
    {
      "cell_type": "code",
      "execution_count": 10,
      "metadata": {},
      "outputs": [
        {
          "name": "stdout",
          "output_type": "stream",
          "text": [
            "P(X<=1)= 0.067\n",
            "P(X<=2)= 0.2\n",
            "P(X<=3)= 0.4\n",
            "P(X<=4)= 0.667\n",
            "P(X<=5)= 1.0\n"
          ]
        }
      ],
      "source": [
        "#2.\n",
        "def cdf1(x2):\n",
        "    cdf_val = 0\n",
        "    for i in range(1,x2+1):\n",
        "        cdf_val += pmf1(i)\n",
        "    return cdf_val\n",
        "for x2 in range(1,6):\n",
        "    print(f\"P(X<={x2})=\",round(cdf1(x2),3))"
      ]
    },
    {
      "cell_type": "code",
      "execution_count": 11,
      "metadata": {},
      "outputs": [
        {
          "data": {
            "text/html": [
              "<div>\n",
              "<style scoped>\n",
              "    .dataframe tbody tr th:only-of-type {\n",
              "        vertical-align: middle;\n",
              "    }\n",
              "\n",
              "    .dataframe tbody tr th {\n",
              "        vertical-align: top;\n",
              "    }\n",
              "\n",
              "    .dataframe thead th {\n",
              "        text-align: right;\n",
              "    }\n",
              "</style>\n",
              "<table border=\"1\" class=\"dataframe\">\n",
              "  <thead>\n",
              "    <tr style=\"text-align: right;\">\n",
              "      <th></th>\n",
              "      <th>PMF</th>\n",
              "      <th>CDF Difference</th>\n",
              "      <th>Equals</th>\n",
              "      <th>deviation</th>\n",
              "    </tr>\n",
              "  </thead>\n",
              "  <tbody>\n",
              "    <tr>\n",
              "      <th>0</th>\n",
              "      <td>0.133</td>\n",
              "      <td>0.133</td>\n",
              "      <td>True</td>\n",
              "      <td>0.0</td>\n",
              "    </tr>\n",
              "    <tr>\n",
              "      <th>1</th>\n",
              "      <td>0.200</td>\n",
              "      <td>0.200</td>\n",
              "      <td>True</td>\n",
              "      <td>0.0</td>\n",
              "    </tr>\n",
              "    <tr>\n",
              "      <th>2</th>\n",
              "      <td>0.267</td>\n",
              "      <td>0.267</td>\n",
              "      <td>True</td>\n",
              "      <td>0.0</td>\n",
              "    </tr>\n",
              "    <tr>\n",
              "      <th>3</th>\n",
              "      <td>0.333</td>\n",
              "      <td>0.333</td>\n",
              "      <td>False</td>\n",
              "      <td>0.0</td>\n",
              "    </tr>\n",
              "  </tbody>\n",
              "</table>\n",
              "</div>"
            ],
            "text/plain": [
              "     PMF  CDF Difference  Equals  deviation\n",
              "0  0.133           0.133    True        0.0\n",
              "1  0.200           0.200    True        0.0\n",
              "2  0.267           0.267    True        0.0\n",
              "3  0.333           0.333   False        0.0"
            ]
          },
          "execution_count": 11,
          "metadata": {},
          "output_type": "execute_result"
        }
      ],
      "source": [
        "#3.\n",
        "dt = pd.DataFrame(data={\n",
        "    \"PMF\": [round(pmf1(x),3) for x in range(2,6)],\n",
        "    \"CDF Difference\": [round(cdf1(x),3)-round(cdf1(x-1),3) for x in range(2,6)]\n",
        "})\n",
        "dt['Equals'] = dt['PMF'] == dt['CDF Difference']\n",
        "dt['deviation'] = round(dt['PMF'] - dt['CDF Difference'],3)\n",
        "dt"
      ]
    },
    {
      "cell_type": "markdown",
      "metadata": {
        "id": "eQ9BFFBmyIR5"
      },
      "source": [
        "#### Q2. (Optional)"
      ]
    },
    {
      "cell_type": "markdown",
      "metadata": {
        "id": "dU3HtyiLx7Gc"
      },
      "source": [
        "  Write a Python function to compute the **CDF** for a given **discrete probability distribution**. Your function should:  \n",
        "\n",
        "1. Take as input:  \n",
        "   - A **list or NumPy array** of possible values of a discrete random variable.  \n",
        "   - A corresponding **list or NumPy array** of probability mass function (PMF) values.  \n",
        "\n",
        "2. Return:  \n",
        "   - A list of CDF values corresponding to the input values.  \n",
        "\n",
        "Additionally, perform the following:  \n",
        "\n",
        "- Compute and plot the **CDF** for a **biased 6-sided die**, where the probability distribution is:  \n",
        "\n",
        "| X   | 3   | 1   | 6   | 2   | 5   | 4   |\n",
        "|-----|-----|-----|-----|-----|-----|-----|\n",
        "| P(X)| 0.15| 0.05| 0.25| 0.10| 0.25| 0.20|\n",
        "\n",
        "\n",
        "- Plot the **CDF as a step function** using **Matplotlib**.  "
      ]
    },
    {
      "cell_type": "code",
      "execution_count": 142,
      "metadata": {},
      "outputs": [
        {
          "data": {
            "text/plain": [
              "Text(0, 0.5, 'PMF')"
            ]
          },
          "execution_count": 142,
          "metadata": {},
          "output_type": "execute_result"
        },
        {
          "data": {
            "image/png": "[encoded data removed]",
            "text/plain": [
              "<Figure size 640x480 with 1 Axes>"
            ]
          },
          "metadata": {},
          "output_type": "display_data"
        }
      ],
      "source": [
        "def compute_cdf(support,pmf):\n",
        "    density = 0\n",
        "    cdf = []\n",
        "    for p in pmf:\n",
        "        density+=p\n",
        "        cdf.append(density)\n",
        "    return np.array(cdf)\n",
        "support = np.array([3,1,6,2,5,4])\n",
        "pmfs = np.array([0.15,0.05,0.25,0.10,0.25,0.20])\n",
        "cdf = compute_cdf(support,pmfs)\n",
        "#Sorting the support and cdf for plotting\n",
        "sorted_idxes = np.argsort(support)\n",
        "cdf = cdf[sorted_idxes]\n",
        "support = np.sort(support)\n",
        "#Plotting the support\n",
        "plt.step(support,cdf,where=\"post\",color=\"red\")\n",
        "plt.title(\"CDF of given Data\")\n",
        "plt.xlabel(\"Discrete RV\")\n",
        "plt.ylabel(\"PMF\")"
      ]
    },
    {
      "cell_type": "markdown",
      "metadata": {
        "id": "vuA21bdnxFNm"
      },
      "source": [
        "#### Q3. (Optional)"
      ]
    },
    {
      "cell_type": "markdown",
      "metadata": {
        "id": "E_jyuhwbxTsj"
      },
      "source": [
        "Define a function pdf(x) representing a normal distribution.\n",
        "\n",
        "$$\n",
        "f(x) = \\frac{1}{2\\pi\\sigma^2} e^{-\\frac{(x-\\mu)^2}{2\\sigma ^2}}\n",
        "$$\n",
        "\n",
        "Now calcluate the CDF of this function and plot it along with the curve for the above normal distribution."
      ]
    },
    {
      "cell_type": "code",
      "execution_count": 147,
      "metadata": {},
      "outputs": [
        {
          "data": {
            "text/plain": [
              "<matplotlib.legend.Legend at 0x1785fed4350>"
            ]
          },
          "execution_count": 147,
          "metadata": {},
          "output_type": "execute_result"
        },
        {
          "data": {
            "image/png": "[encoded data removed]",
            "text/plain": [
              "<Figure size 640x480 with 1 Axes>"
            ]
          },
          "metadata": {},
          "output_type": "display_data"
        }
      ],
      "source": [
        "def normal(x,mu,sigma): return np.exp((-(x-mu)**2)/(2*sigma))/(2*np.pi*sigma**2)\n",
        "x = np.linspace(-10,10,100)\n",
        "n = normal(x,2,5)\n",
        "import scipy.integrate as integrate\n",
        "cdf_values = [integrate.quad(normal, -10, ele, args=(2, 5))[0] for ele in x]\n",
        "plt.plot(x, n, label=\"PDF\", color=\"blue\")\n",
        "plt.plot(x, cdf_values, label=\"CDF\", linestyle=\"dashed\", color=\"red\")\n",
        "plt.legend()"
      ]
    },
    {
      "cell_type": "markdown",
      "metadata": {
        "id": "vgZ_RxSKFkIw"
      },
      "source": [
        "# 4. **Expectation**"
      ]
    },
    {
      "cell_type": "markdown",
      "metadata": {
        "id": "ddbE5kQkI_Jx"
      },
      "source": [
        "#### Q1. (**Mandatory**)\n",
        "Simulate a game where you flip a coin three times. The reward system is as follows:\n",
        "\n",
        "\n",
        "*   $8 for exactly 3 heads\n",
        "\n",
        "*   $1 for exactly 2 heads,\n",
        "\n",
        "*   $0 otherwise.\n",
        "\n",
        "The cost to play the game is $1.5. Run the simulation for 10,000 trials and compute the average net gain, compare with theoretical expected net gain?\n"
      ]
    },
    {
      "cell_type": "markdown",
      "metadata": {},
      "source": [
        "Answer: \n",
        "Theoretical Calculations\n",
        "PMF is:\n",
        "$$\n",
        "F[X] = \n",
        "\\begin{cases}\n",
        "p, & \\text{if }  x = 0 \\\\\n",
        "1-p, & \\text{if } x = 1\n",
        "\\end{cases}\n",
        "$$\n",
        "Let the reward function be g(x). g(x) is given as:\n",
        "$$\n",
        "g[X] = \n",
        "\\begin{cases}\n",
        "8, & \\text{if }  x=3 \\\\\n",
        "1, & \\text{if }  x=2 \\\\\n",
        "0, & \\text{otherwise} \n",
        "\\end{cases}\n",
        "$$\n",
        "Let us now calculate the theoretical Expected value of the new Random Variable g(X)\n",
        "$$\n",
        "\\begin{align}\n",
        "E[g(X)]\n",
        "&=\\sum_{x\\in X} g(x)F(x) \\\\\n",
        "&=\\sum_{x=0}^{3} g(x)\\binom{3}{x}p^x(1-p)^{3-x} \\\\\n",
        "&= 1\\binom{3}{2} (0.5)^2 (0.5)^(1) + 8\\binom{3}{3} (0.5)^3 (0.5)^{0} \\\\\n",
        "&= 1.375 \\\\\n",
        "Net\\_gain\n",
        "&= 1.375 - 1.5 \\\\\n",
        "&= -0.125    \n",
        "\\end{align}\n",
        "$$\n",
        "Thus, theoretically there will be am expected loss of -0.125 dollars. \n"
      ]
    },
    {
      "cell_type": "code",
      "execution_count": 12,
      "metadata": {},
      "outputs": [
        {
          "name": "stdout",
          "output_type": "stream",
          "text": [
            "Theoretical gain is: -0.125 dollars\n",
            "Net gain is: -0.126 dollars\n"
          ]
        }
      ],
      "source": [
        "no_of_trials = 10000\n",
        "#Consider head as success and we will make a random variable X distributed as Binomial(n,p) \n",
        "n1,p1 = 3,0.5\n",
        "bd = torch.distributions.Binomial(n1,p1)\n",
        "trials = bd.sample((no_of_trials,))\n",
        "cost_to_play = 1.5 # In dollars\n",
        "\n",
        "#Make a reward function which returns reward as per random variable x\n",
        "def reward(xval1): return 8 if xval1==3 else 1 if xval1==2 else 0\n",
        "theoretical_gain = -0.125 # Dollars\n",
        "print(\"Theoretical gain is:\",theoretical_gain,\"dollars\")\n",
        "#Calculating the sample_gain\n",
        "df2 = pd.DataFrame(trials,columns=[\"Samples\"])\n",
        "#Getting the rewards for every game out of the 10,000 games played\n",
        "rewards = df2['Samples'].apply(lambda x:reward(x))\n",
        "avg_gain = rewards.mean()\n",
        "net_gain = avg_gain - cost_to_play\n",
        "print(\"Net gain is:\",round(net_gain,3),\"dollars\")"
      ]
    },
    {
      "cell_type": "markdown",
      "metadata": {
        "id": "osP7AEI1F-o4"
      },
      "source": [
        "#### Q2. (Optional)\n",
        "Write a Python function that computes the expected value of a discrete random variable given its probability mass function (PMF). The function should take a dictionary where keys represent outcomes and values represent their corresponding probabilities.\n",
        "\n",
        "Example:\n",
        "```python\n",
        "pmf = {1: 0.2, 2: 0.3, 3: 0.5}\n",
        "expected_value = compute_expected_value(pmf)\n",
        "print(expected_value)  # Expected Output: 2.3\n",
        "\n",
        "```\n",
        "\n",
        "\n"
      ]
    },
    {
      "cell_type": "code",
      "execution_count": 148,
      "metadata": {},
      "outputs": [
        {
          "name": "stdout",
          "output_type": "stream",
          "text": [
            "2.3\n"
          ]
        }
      ],
      "source": [
        "def compute_expected_value(pmf): \n",
        "    df = pd.DataFrame(data={\n",
        "        \"Outcome\": pmf.keys(), \n",
        "        \"Probs\": pmf.values(), \n",
        "    })\n",
        "    c = df.columns\n",
        "    Ex = (df[c[0]]*df[c[1]]).sum()\n",
        "    return Ex\n",
        "pmf = {1: 0.2, 2: 0.3, 3: 0.5}\n",
        "expected_value = compute_expected_value(pmf)\n",
        "print(expected_value) \n"
      ]
    },
    {
      "cell_type": "markdown",
      "metadata": {
        "id": "rHAdendZKJ36"
      },
      "source": [
        "#### Q3. (Optional)\n",
        "\n",
        "Given a discrete random variable with its probability mass function (PMF), compute the expected value of a function \\(g(x)\\). The function \\(g(x)\\) should be provided as input.\n",
        "\n",
        "Example:\n",
        "```python\n",
        "pmf = {1: 0.2, 2: 0.3, 3: 0.5}\n",
        "g = lambda x: x**2\n",
        "expected_value = compute_expected_value_of_function(pmf, g)\n",
        "print(expected_value)\n"
      ]
    },
    {
      "cell_type": "code",
      "execution_count": 149,
      "metadata": {},
      "outputs": [
        {
          "name": "stdout",
          "output_type": "stream",
          "text": [
            "5.9\n"
          ]
        }
      ],
      "source": [
        "pmf = {1: 0.2, 2: 0.3, 3: 0.5}\n",
        "g = lambda x: x**2\n",
        "def compute_expected_value_of_function(pmf,g):\n",
        "    df = pd.DataFrame(data={\n",
        "        \"Outcome\": pmf.keys(),\n",
        "        \"Probs\": pmf.values()\n",
        "    })\n",
        "    Ex = (df['Probs']*(df['Outcome'].apply(g))).sum()\n",
        "    return Ex\n",
        "    \n",
        "expected_value = compute_expected_value_of_function(pmf, g)\n",
        "print(expected_value)"
      ]
    },
    {
      "cell_type": "markdown",
      "metadata": {
        "id": "g8wMHIlmFp8F"
      },
      "source": [
        "# 5. **Moments and Variance**"
      ]
    },
    {
      "cell_type": "markdown",
      "metadata": {
        "id": "pMNwE30BKWIr"
      },
      "source": [
        "#### Q1. (**Mandatory**)\n",
        "Write a function to compute the variance of a discrete random variable given its probability mass function.\n",
        "\n",
        "Example:\n",
        "```python\n",
        "pmf = {1: 0.2, 2: 0.3, 3: 0.5}\n",
        "variance = compute_variance(pmf)\n",
        "print(variance)\n"
      ]
    },
    {
      "cell_type": "code",
      "execution_count": 13,
      "metadata": {},
      "outputs": [
        {
          "name": "stdout",
          "output_type": "stream",
          "text": [
            "0.04666666666666668\n"
          ]
        }
      ],
      "source": [
        "def compute_variance(pmf):\n",
        "    df = pd.DataFrame(pmf.values(),index=pmf.keys(),columns=[\"PMF\"])\n",
        "    variance = (df['PMF']*(df['PMF'] - df['PMF'].mean())).sum()\n",
        "    return variance\n",
        "pmf = {1: 0.2, 2: 0.3, 3: 0.5}\n",
        "variance = compute_variance(pmf)\n",
        "print(variance)"
      ]
    },
    {
      "cell_type": "markdown",
      "metadata": {
        "id": "nCyWle3ONwra"
      },
      "source": [
        "#### Q2. (Optional)\n",
        "Write a function to compute the k-th moment of a discrete random variable given its probability mass function.\n",
        "\n",
        "Example:\n",
        "```python\n",
        "pmf = {1: 0.2, 2: 0.3, 3: 0.5}\n",
        "k = 3\n",
        "moment = compute_moment(pmf, k)\n",
        "print(moment)\n"
      ]
    },
    {
      "cell_type": "code",
      "execution_count": 151,
      "metadata": {},
      "outputs": [
        {
          "name": "stdout",
          "output_type": "stream",
          "text": [
            "16.1\n"
          ]
        }
      ],
      "source": [
        "pmf = {1: 0.2, 2: 0.3, 3: 0.5}\n",
        "k = 3\n",
        "def compute_moment(pmf,k):\n",
        "    df = pd.DataFrame(data={\n",
        "        \"Outcome\": pmf.keys(),\n",
        "        \"Probs\": pmf.values()\n",
        "    })\n",
        "    Moment = (df['Probs']*(df['Outcome'].apply(lambda x: x**k))).sum()\n",
        "    return Moment\n",
        "    \n",
        "moment = compute_moment(pmf, k)\n",
        "print(moment)"
      ]
    },
    {
      "cell_type": "markdown",
      "metadata": {
        "id": "ySH0CaT7OfX_"
      },
      "source": [
        "#### Q3. (Optional)\n",
        "Simulate and Estimate the variance of a given function \\( f(x) \\) when \\( X \\) is uniformly distributed over [a, b].\n",
        "\n",
        "Example:\n",
        "```python\n",
        "import numpy as np\n",
        "f = lambda x: x**2\n",
        "a, b, N = 0, 1, 10000\n",
        "variance = estimate_variance(f, a, b, N)\n",
        "print(variance)\n"
      ]
    },
    {
      "cell_type": "code",
      "execution_count": 153,
      "metadata": {},
      "outputs": [
        {
          "name": "stdout",
          "output_type": "stream",
          "text": [
            "0.0888888888888889\n"
          ]
        }
      ],
      "source": [
        "import numpy as np\n",
        "f = lambda x: x**2\n",
        "a, b, N = 0, 1, 10000\n",
        "def estimate_variance(f, a, b, N):\n",
        "    import scipy.integrate as integrate\n",
        "    Ex = integrate.quad(lambda x: f(x)/(b-a),a,b)[0]\n",
        "    Ex2 = integrate.quad(lambda x: (f(x)**2)/(b-a),a,b)[0]\n",
        "    var = Ex2 - Ex**2\n",
        "    return var\n",
        "variance = estimate_variance(f, a, b, N)\n",
        "print(variance)"
      ]
    },
    {
      "cell_type": "markdown",
      "metadata": {
        "id": "QKJYlSFoRNhY"
      },
      "source": [
        "#### Q1. (**Mandatory**)\n",
        "Write a function that simulates a Bernoulli-distributed random variable with a given probability \\( p \\).\n",
        "\n",
        "Example:\n",
        "```python\n",
        "p = 0.7\n",
        "outcome = bernoulli_trial(p)\n",
        "print(outcome)  # Expected Output: 0 or 1\n"
      ]
    },
    {
      "cell_type": "markdown",
      "metadata": {
        "id": "Yy96ebCzFwc-"
      },
      "source": [
        "# 6. **Bernoulli Random Variables**"
      ]
    },
    {
      "cell_type": "code",
      "execution_count": null,
      "metadata": {},
      "outputs": [
        {
          "name": "stdout",
          "output_type": "stream",
          "text": [
            "1.0\n"
          ]
        }
      ],
      "source": [
        "def bernoulli_trial(p):\n",
        "    dist = torch.distributions.Bernoulli(p)\n",
        "    return dist.sample()\n",
        "p = 0.7\n",
        "outcome = bernoulli_trial(p)\n",
        "print(outcome.item())"
      ]
    },
    {
      "cell_type": "markdown",
      "metadata": {
        "id": "ih4Y5G-KRo-e"
      },
      "source": [
        "#### Q2. (Optional)\n",
        "Given \\( p \\), the probability of success in a Bernoulli distribution, compute its expectation and variance.\n",
        "\n",
        "Example:\n",
        "```python\n",
        "p = 0.5\n",
        "expectation, variance = bernoulli_stats(p)\n",
        "print(expectation, variance)\n"
      ]
    },
    {
      "cell_type": "code",
      "execution_count": 156,
      "metadata": {},
      "outputs": [
        {
          "name": "stdout",
          "output_type": "stream",
          "text": [
            "0.5 0.25\n"
          ]
        }
      ],
      "source": [
        "p = 0.5\n",
        "def bernoulli_stats(p):\n",
        "    return p,p*(1-p)\n",
        "expectation, variance = bernoulli_stats(p)\n",
        "print(expectation, variance)"
      ]
    },
    {
      "cell_type": "markdown",
      "metadata": {
        "id": "t0jkfyQPR591"
      },
      "source": [
        "#### Q3. (Optional)\n",
        "Write a function that simulates `N` Bernoulli trials and computes the proportion of successes.\n",
        "\n",
        "Example:\n",
        "```python\n",
        "p = 0.3\n",
        "N = 1000\n",
        "proportion = simulate_bernoulli(p, N)\n",
        "print(proportion)\n"
      ]
    },
    {
      "cell_type": "code",
      "execution_count": 157,
      "metadata": {},
      "outputs": [
        {
          "name": "stdout",
          "output_type": "stream",
          "text": [
            "0.312\n"
          ]
        }
      ],
      "source": [
        "p = 0.3\n",
        "N = 1000\n",
        "def simulate_bernoulli(p,N):\n",
        "    dist = torch.distributions.Bernoulli(p)\n",
        "    sample = dist.sample((N,)).numpy()\n",
        "    sp = sample.sum()/N\n",
        "    return sp\n",
        "    \n",
        "proportion = simulate_bernoulli(p, N)\n",
        "print(proportion)"
      ]
    },
    {
      "cell_type": "markdown",
      "metadata": {
        "id": "q8pb3dNDccA_"
      },
      "source": [
        "# 7. **Binomial Distribution**"
      ]
    },
    {
      "cell_type": "markdown",
      "metadata": {
        "id": "6fwkUtQdcWTZ"
      },
      "source": [
        "#### Q1. (**Mandatory**)\n",
        "Write a Python function that simulates a Binomial random variable. The function should take three inputs:\n",
        "- `n` (number of trials)\n",
        "- `p` (probability of success)\n",
        "- `size` (number of random values to generate)\n",
        "\n",
        "Plot a histogram of the generated values for `n=10`, `p=0.5`, and `size=1000`.\n"
      ]
    },
    {
      "cell_type": "code",
      "execution_count": 15,
      "metadata": {},
      "outputs": [
        {
          "data": {
            "text/plain": [
              "Text(0.5, 1.0, 'Histogram of Binomial Distribution')"
            ]
          },
          "execution_count": 15,
          "metadata": {},
          "output_type": "execute_result"
        },
        {
          "data": {
            "image/png": "[encoded data removed]",
            "text/plain": [
              "<Figure size 640x480 with 1 Axes>"
            ]
          },
          "metadata": {},
          "output_type": "display_data"
        }
      ],
      "source": [
        "def plot_binomial(n,p,size):\n",
        "    binomial = torch.distributions.Binomial(n,p)\n",
        "    samples = binomial.sample((size,))\n",
        "    return samples\n",
        "binomial_samples = plot_binomial(10,0.5,1000)\n",
        "plt.hist(binomial_samples,color=\"goldenrod\")\n",
        "plt.xlabel(\"Discrete Binomial RV\")\n",
        "plt.ylabel(\"Frequency\")\n",
        "plt.title(\"Histogram of Binomial Distribution\")"
      ]
    },
    {
      "cell_type": "markdown",
      "metadata": {
        "id": "BM-W1Dmtcp-U"
      },
      "source": [
        "#### Q2. (Optional)\n",
        "Write a Python program that:\n",
        "1. Computes the probability mass function (PMF) of a Binomial distribution.\n",
        "2. Plots the PMF for `n=20` and `p=0.3`.\n"
      ]
    },
    {
      "cell_type": "code",
      "execution_count": 164,
      "metadata": {},
      "outputs": [
        {
          "data": {
            "text/plain": [
              "Text(0.5, 1.0, 'PMF of Binomial')"
            ]
          },
          "execution_count": 164,
          "metadata": {},
          "output_type": "execute_result"
        },
        {
          "data": {
            "image/png": "[encoded data removed]",
            "text/plain": [
              "<Figure size 640x480 with 1 Axes>"
            ]
          },
          "metadata": {},
          "output_type": "display_data"
        }
      ],
      "source": [
        "import math\n",
        "def Binomial(x,n,p): return np.array([math.comb(n, t) * (p**t) * (1 - p)**(n - t) for t in x])\n",
        "x1 = np.arange(0,20+1,1)\n",
        "plt.stem(x1,Binomial(x1,20,0.3))\n",
        "plt.xlabel(\"Discrete RV\")\n",
        "plt.ylabel(\"PMF\")\n",
        "plt.title(\"PMF of Binomial\")  "
      ]
    },
    {
      "cell_type": "markdown",
      "metadata": {
        "id": "n6cykx_bcr34"
      },
      "source": [
        "#### Q3. (Optional)\n",
        "Simulate a fair coin being flipped 100 times and count the number of heads. Repeat this experiment 1000 times and visualize the distribution using a histogram. Explain how this relates to the Binomial distribution."
      ]
    },
    {
      "cell_type": "code",
      "execution_count": 170,
      "metadata": {},
      "outputs": [
        {
          "data": {
            "image/png": "[encoded data removed]",
            "text/plain": [
              "<Figure size 640x480 with 1 Axes>"
            ]
          },
          "metadata": {},
          "output_type": "display_data"
        }
      ],
      "source": [
        "def sim(n,p=0.5,N=1000):\n",
        "    dist = torch.distributions.Bernoulli(p)\n",
        "    samples = dist.sample((N,n)).numpy()\n",
        "    success = samples.sum(axis=1)\n",
        "    return success\n",
        "def binom(n,p,N=1000):\n",
        "    dist = torch.distributions.Binomial(n,p)\n",
        "    samples = dist.sample((N)).numpy()\n",
        "    return samples\n",
        "smple = sim(100)\n",
        "smple2 = sim(100,0.5)\n",
        "plt.hist(smple,density=True,label=\"1000 trials of 100 Bernoulli experiments\")\n",
        "plt.hist(smple2,density=True,alpha=0.5,label=\"1000 samples of Binomial of n=100 and p=0.5\")\n",
        "plt.legend()\n",
        "plt.tight_layout()\n"
      ]
    },
    {
      "cell_type": "markdown",
      "metadata": {
        "id": "XeT0mKQcc0Fn"
      },
      "source": [
        "# 8. **Geometric Distribution**"
      ]
    },
    {
      "cell_type": "markdown",
      "metadata": {
        "id": "FmkQn3oYc5z5"
      },
      "source": [
        "#### Q1. (**Mandatory**)\n",
        "#### Simulating Geometric Distribution\n",
        "Write a Python function that generates random numbers from a Geometric distribution. The function should take:\n",
        "- `p` (probability of success)\n",
        "- `size` (number of values to generate)\n",
        "\n",
        "Plot a histogram for `p=0.3` and `size=1000`."
      ]
    },
    {
      "cell_type": "code",
      "execution_count": 16,
      "metadata": {},
      "outputs": [
        {
          "data": {
            "image/png": "[encoded data removed]",
            "text/plain": [
              "<Figure size 640x480 with 1 Axes>"
            ]
          },
          "metadata": {},
          "output_type": "display_data"
        }
      ],
      "source": [
        "def plot_geometric(p,size,colour=\"blue\"):\n",
        "    dist = torch.distributions.Geometric(p)\n",
        "    samples = dist.sample((size,))\n",
        "    plt.hist(samples,density=True,color=colour,alpha=0.5)\n",
        "    plt.title(f\"Normalised Histogram Plot of Geometric Distribution with p = {p} and sample size = {size}\")\n",
        "    plt.xlabel(\"Discrete Random Variable\")\n",
        "    plt.ylabel(\"Mass\")\n",
        "plot_geometric(0.3,1000)"
      ]
    },
    {
      "cell_type": "markdown",
      "metadata": {
        "id": "p0IofI50c-S3"
      },
      "source": [
        "#### Q2. (Optional)\n",
        "#### Expected Number of Trials\n",
        "Create an interactive Python program that uses `ipywidgets` and `matplotlib` to visualize the probability mass function (PMF) of the Geometric distribution. Users can adjust the probability of success \\( p \\) and the maximum number of trials \\( k \\) to display."
      ]
    },
    {
      "cell_type": "markdown",
      "metadata": {},
      "source": [
        "Answer:\n",
        "Geometric Distribution is:\n",
        "$$\n",
        "P(X=k)=(1−p)^{k−1}p  \n",
        "\n",
        "$$\n",
        "where k = {1,2,3,4,...}\n",
        "\n"
      ]
    },
    {
      "cell_type": "code",
      "execution_count": 178,
      "metadata": {},
      "outputs": [
        {
          "data": {
            "application/vnd.jupyter.widget-view+json": {
              "model_id": "3526a7e4e66143de8a869cb7316d438e",
              "version_major": 2,
              "version_minor": 0
            },
            "text/plain": [
              "interactive(children=(IntSlider(value=10, description='k', min=2), FloatSlider(value=0.3, description='p', max…"
            ]
          },
          "metadata": {},
          "output_type": "display_data"
        },
        {
          "data": {
            "text/plain": [
              "<function __main__.plot_geometric_dist(k, p)>"
            ]
          },
          "execution_count": 178,
          "metadata": {},
          "output_type": "execute_result"
        }
      ],
      "source": [
        "kSlider = widgets.IntSlider(min=2,max=100,value=10,step=1,description=\"k\")\n",
        "pSlider = widgets.FloatSlider(min=0,max=1,step=0.05,value=0.3,description=\"p\")\n",
        "def plot_geometric_dist(k,p):\n",
        "    def f(p,x): return p*((1-p)**(x-1))\n",
        "    x = np.arange(1,k+1,1)\n",
        "    plt.stem(x,f(p,x))\n",
        "    plt.xlabel(\"Continuous RV\")\n",
        "    plt.ylabel(\"Density\")\n",
        "    plt.title(\"PMF of Geometric distribution\")\n",
        "interact(plot_geometric_dist,k=kSlider,p=pSlider)"
      ]
    },
    {
      "cell_type": "markdown",
      "metadata": {
        "id": "PN-p60rJc-AY"
      },
      "source": [
        "#### Q3. (Optional)\n",
        "#### Estimating `p` from Sample Data\n",
        "Generate a dataset of 500 Geometric random variables with `p=0.4`. Then, estimate `p` from the data using the formula:\n",
        "\n",
        "$$\\hat{p} = \\frac{1}{\\text{sample mean}}$$\n",
        "\n",
        "Compare the estimated value with the true `p=0.4` and compute the percentage error."
      ]
    },
    {
      "cell_type": "markdown",
      "metadata": {
        "id": "BsYyOiaQdEt5"
      },
      "source": [
        "# 9. **Poisson Distribution**"
      ]
    },
    {
      "cell_type": "markdown",
      "metadata": {
        "id": "Tc-N5EM7dPlG"
      },
      "source": [
        "#### Q1. (**Mandatory**)\n",
        "Write a Python function that generates Poisson random variables. The function should take:\n",
        "- `λ` (expected number of events per interval)\n",
        "- `size` (number of values to generate)\n",
        "\n",
        "Plot a histogram for `λ=5` and `size=1000`."
      ]
    },
    {
      "cell_type": "code",
      "execution_count": 17,
      "metadata": {},
      "outputs": [
        {
          "data": {
            "image/png": "[encoded data removed]",
            "text/plain": [
              "<Figure size 640x480 with 1 Axes>"
            ]
          },
          "metadata": {},
          "output_type": "display_data"
        }
      ],
      "source": [
        "def Poisson_gen(lmbda,size):\n",
        "    pmf1 = torch.distributions.Poisson(lmbda) \n",
        "    samples = pmf1.sample((size,))\n",
        "    plt.hist(samples,density=True,color='red',alpha=0.5)\n",
        "    plt.xlabel(\"Discrete Random Variable\")\n",
        "    plt.ylabel(\"Mass\")\n",
        "    plt.title(\"Normalised Histogram plot of Poisson Distribution\")\n",
        "lmbda = 5\n",
        "size = 1000\n",
        "Poisson_gen(lmbda,size)"
      ]
    },
    {
      "cell_type": "markdown",
      "metadata": {
        "id": "7W1a8nf4dSck"
      },
      "source": [
        "#### Q2. (Optional)\n",
        "Generate 1000 samples from a Binomial distribution with `n=100` and `p=0.05`. Then, generate 1000 samples from a Poisson distribution with `λ=n*p=5`. Compare their histograms and explain why the Poisson distribution approximates the Binomial distribution for large `n` and small `p`."
      ]
    },
    {
      "cell_type": "markdown",
      "metadata": {
        "id": "cqcv1zW-dUkA"
      },
      "source": [
        "#### Q3. (Optional)\n",
        "A call center receives calls at an average rate of 3 calls per minute. Assume the number of calls follows a Poisson distribution.\n",
        "1. Compute the probability of receiving exactly 5 calls in a minute.\n",
        "2. Compute the probability of receiving at most 5 calls."
      ]
    },
    {
      "cell_type": "markdown",
      "metadata": {
        "id": "p4v_YdEb81gq"
      },
      "source": [
        "# 10. **Probability Density function**"
      ]
    },
    {
      "cell_type": "markdown",
      "metadata": {
        "id": "3ezCZRI99BdL"
      },
      "source": [
        "#### Q1. (**Mandatory**)\n",
        "Implement a piecewise PDF defined as:\n",
        "\n",
        "$$\n",
        "f(x) =\n",
        "\\begin{cases}\n",
        "0.5x & \\text{if } 0 \\leq x \\leq 1 \\\\\n",
        "2 - x & \\text{if } 1 < x \\leq 2 \\\\\n",
        "0 & \\text{otherwise}\n",
        "\\end{cases}\n",
        "$$\n",
        "\n",
        "Compute P(0.5≤X≤1.5) analytically and verify using numerical integration.\n",
        "\n",
        "Plot the PDF and highlight the area under the curve for the computed probability."
      ]
    },
    {
      "cell_type": "markdown",
      "metadata": {},
      "source": [
        "## Note: As per the below calculation, we figured out that above pdf is not a valid pdf as the integral over $-\\infty$ to $\\infty$ is not 1 but 0.75"
      ]
    },
    {
      "cell_type": "markdown",
      "metadata": {},
      "source": [
        "#### Answer\n",
        "Let us first calculate the CDF of f(x)\n",
        "\n",
        "1. For $ x \\in [0,1] $ :\n",
        "$$ F[X>x] = \\int_{0}^{x}0.5x\\,dx = 0.5\\frac{[x^2]_{0}^{x}}{2} = 0.25x^2 $$\n",
        "\n",
        "2. For $ x \\in [1,2] $ :\n",
        "$$ \n",
        "\\begin{align}\n",
        "F[X > x] &= \\int_{0}^{1} 0.5x \\,dx + \\int_{1}^{x} (2-x) \\,dx  \\\\\n",
        "&= 0.25 - \\frac{[(2-x)^2]_1^x}{2}  \\\\\n",
        "&= 0.25 - \\frac{(2-x)^2 -1}{2}\n",
        "\\end{align}\n",
        "$$\n",
        "\n",
        "3. For $ x \\in [2,\\infty] $ :\n",
        "$$ \n",
        "\\begin{align}\n",
        "F[X > x] &= \\int_{0}^{1} 0.5x \\,dx + \\int_{1}^{2} (2-x) \\,dx + 0 \\\\\n",
        "&= 0.25 + \\frac{[(2-x)^2]_1^2}{2}  \\\\\n",
        "&= 0.25 + 0.5 = 0.75\n",
        "\\end{align}\n",
        "$$\n",
        "\n",
        "So the cdf will be : \n",
        "$$\n",
        "F[X \\leq x] = \n",
        "\\begin{cases}\n",
        "0.25x^2 & \\text{if } & 0 \\leq x \\leq 1 \\\\\n",
        "0.25 - \\frac{(2-x)^2 -1}{2} & \\text{if } & 1 < x \\leq 2 \\\\\n",
        "0.75 & \\text{if } & x > 2 \n",
        "\\end{cases}\n",
        "$$"
      ]
    },
    {
      "cell_type": "code",
      "execution_count": 18,
      "metadata": {},
      "outputs": [
        {
          "name": "stdout",
          "output_type": "stream",
          "text": [
            "Analytical Approach: P[0.5<=X<=1.5] =  0.5625\n",
            "Numerical Integration Approach: P[0.5<=X<=1.5] =  0.5625\n"
          ]
        }
      ],
      "source": [
        "def pdf(x):return 0.5*x if 0<=x<=1 else 2-x if 1<x<=2 else 0\n",
        "\n",
        "#Computing P(0.5<=X<=1.5 analytically)\n",
        "def cdf(x):return 0.25*x**2 if 0<=x<=1 else 0.25-((2-x)**2 - 1)/2 if 1<x<=2 else 0.75\n",
        "print(\"Analytical Approach: P[0.5<=X<=1.5] = \",cdf(1.5)-cdf(0.5))\n",
        "\n",
        "#Computing P(0.5<=X<=1.5 by numerical integration)\n",
        "#Defining the piecewise funcs\n",
        "def f1(x): return 0.5*x if 0<=x<=1 else 0\n",
        "def f2(x): return 2-x if 1<x<=2 else 0\n",
        "import scipy.integrate as integrate\n",
        "req_prob = integrate.quad(f1,0.5,1)[0] + integrate.quad(f2,1,1.5)[0]\n",
        "print(\"Numerical Integration Approach: P[0.5<=X<=1.5] = \",req_prob)"
      ]
    },
    {
      "cell_type": "code",
      "execution_count": 19,
      "metadata": {},
      "outputs": [
        {
          "data": {
            "image/png": "[encoded data removed]",
            "text/plain": [
              "<Figure size 640x480 with 1 Axes>"
            ]
          },
          "metadata": {},
          "output_type": "display_data"
        }
      ],
      "source": [
        "#Plotting the pdf\n",
        "x = np.linspace(0,5,100)\n",
        "y = pd.Series(x).apply(lambda t: pdf(t))\n",
        "plt.plot(x,y,label=\"PDF\")\n",
        "plt.xlabel(\"Continuous Random Variable\")\n",
        "plt.ylabel(\"Density\")\n",
        "plt.title(\"Plot of PDF of given distribution\")\n",
        "#Filling the area under curve with magenta colour\n",
        "plt.fill_between(x,y,alpha=0.4,color='magenta',label=\"Area Under curve\")\n",
        "plt.legend()\n",
        "plt.show()"
      ]
    },
    {
      "cell_type": "markdown",
      "metadata": {
        "id": "8kuOwnHGKGh4"
      },
      "source": [
        "#### Q2. (Optional)\n",
        "Write a Python program to estimate the probability density function of a given dataset using a histogram.\n",
        "\n",
        "* Generate or load a dataset (e.g., from a normal distribution with mean = 0 and standard deviation = 1, sample size = 1000).\n",
        "* Compute the histogram with an appropriate number of bins.\n",
        "* Normalize the histogram so that it represents a probability density function and plot the estimated PDF."
      ]
    },
    {
      "cell_type": "markdown",
      "metadata": {
        "id": "rPgp7t-hOGNy"
      },
      "source": [
        "#### Q3. (Optional)\n",
        "Random variable X defined as:\n",
        "\n",
        "Discrete PMF: P(X=0)=0.2.\n",
        "\n",
        "Continuous PDF: For 1≤x≤3, f(x)=0.4.\n",
        "\n",
        "X is undefined outside {0}∪[1,3].\n",
        "\n",
        "* a) Confirm the total probability is 1.\n",
        "* b) Compute P(1.5≤X≤2.5)."
      ]
    },
    {
      "cell_type": "markdown",
      "metadata": {
        "id": "6NxF_1rZXB5w"
      },
      "source": [
        "# 11. **Expectation(continuous)**"
      ]
    },
    {
      "cell_type": "markdown",
      "metadata": {
        "id": "-mOKnpZEjWok"
      },
      "source": [
        "#### Q1. (**Mandatory**)\n",
        "Implement a function to compute E[X] for a continuous random variable with a piecewise probability density function (PDF).\n",
        "\n",
        "```python\n",
        "def expectation_piecewise_pdf(intervals: list, funcs: list) -> float:\n",
        "    \"\"\"\n",
        "    Compute E[X] for a piecewise PDF defined over intervals.\n",
        "    \n",
        "    Args:\n",
        "        intervals: List of tuples defining intervals, e.g., [(0, 1), (1, 2)]\n",
        "        funcs: List of functions corresponding to each interval's PDF\n",
        "    \"\"\"\n",
        "    \n",
        "    # Example:\n",
        "    def f1(x): return x   # For 0 <= x <= 1\n",
        "    def f2(x): return 2 - x  # For 1 < x <= 2\n",
        "    expectation_piecewise_pdf([(0, 1), (1, 2)], [f1, f2]) ≈ 1.0\n",
        "\n"
      ]
    },
    {
      "cell_type": "code",
      "execution_count": 20,
      "metadata": {},
      "outputs": [
        {
          "data": {
            "text/plain": [
              "1.0"
            ]
          },
          "execution_count": 20,
          "metadata": {},
          "output_type": "execute_result"
        }
      ],
      "source": [
        "def expectation_piecewise_pdf(intervals: list,funcs: list) -> float:\n",
        "    import scipy.integrate as integrate\n",
        "    expectation = 0\n",
        "    for (a,b),f in zip(intervals,funcs):\n",
        "        expectation += integrate.quad(f,a,b)[0]\n",
        "    return expectation\n",
        "#Example\n",
        "def f1(x): return x \n",
        "def f2(x): return 2-x\n",
        "expectation_piecewise_pdf([(0,1),(1,2)],[f1,f2])"
      ]
    },
    {
      "cell_type": "markdown",
      "metadata": {
        "id": "aqCoF8uWjffm"
      },
      "source": [
        "#### Q2. (Optional)\n",
        "Compute E[g(X)] for a continuous random variable X with PDF f(x) and transformation g, using numerical integration.\n",
        "```python\n",
        "def expectation_transform(g, pdf, lower: float, upper: float) -> float:\n",
        "    \"\"\"\n",
        "    Compute E[g(X)] where X has the given PDF.\n",
        "    \n",
        "    Args:\n",
        "        g: Function to transform X (e.g., lambda x: x**2)\n",
        "        pdf: Probability density function of X\n",
        "        lower: Lower bound of X's support\n",
        "        upper: Upper bound of X's support\n",
        "    \"\"\"\n",
        "    # Example:\n",
        "    f = lambda x: 2*x  # PDF for X ~ Uniform(0,1) transformed by Y=2X\n",
        "    expectation_transform(lambda x: x, f, 0, 1) ≈ 2/3\n",
        "  \n"
      ]
    },
    {
      "cell_type": "markdown",
      "metadata": {
        "id": "cb3P-5WUnJfn"
      },
      "source": [
        "# **12. Cumulative distribution function for continuous random variables**"
      ]
    },
    {
      "cell_type": "markdown",
      "metadata": {
        "id": "5fxXqewsuss8"
      },
      "source": [
        "#### Q1. (**Mandatory**)\n",
        "Write a function to compute and plot the Cumulative Distribution Function (CDF) for a Uniform continuous random variable\n",
        "𝑋 ∼ 𝑈(𝑎,𝑏) given the probability density function (PDF):\n",
        "\n",
        "\n",
        "$$ f_X(x)= \\begin{cases}\n",
        "\\frac{1}{b−a} & ,\\text a≤x≤b \\\\\n",
        "0 & ,\\text {otherwise}\n",
        "\\end {cases}\n",
        "$$\n",
        "\n",
        "Your function should:\n",
        "\n",
        "1. Take a and b (where 𝑎 < 𝑏) as inputs.\n",
        "2. Compute the CDF $𝐹_𝑋(𝑥)$\n",
        "3. Generate an array of 𝑥-values and compute $ 𝐹_𝑋(𝑥) $.\n",
        "4. Plot the CDF curve using Matplotlib.​\n",
        "\n",
        "\n",
        "\n",
        "\n",
        "\n",
        "\n",
        "\n",
        "\n",
        "\n",
        "\n",
        "\n",
        "\n",
        "\n"
      ]
    },
    {
      "cell_type": "markdown",
      "metadata": {},
      "source": [
        "Answer <br>\n",
        "CDF of random variable U ~ Uniform(a,b) is given by: <br>\n",
        "\n",
        "$$\n",
        "F_X[X] = \n",
        "\\begin{cases}\n",
        "0 & \\text{if } & 0 \\leq x \\leq a \\\\\n",
        "\\frac{x-a}{b-a} & \\text{if } & a \\leq x \\leq b \\\\\n",
        "1 & \\text{if } & x > b\n",
        "\\end{cases}\n",
        "$$"
      ]
    },
    {
      "cell_type": "code",
      "execution_count": 21,
      "metadata": {},
      "outputs": [
        {
          "data": {
            "image/png": "[encoded data removed]",
            "text/plain": [
              "<Figure size 1000x600 with 1 Axes>"
            ]
          },
          "metadata": {},
          "output_type": "display_data"
        }
      ],
      "source": [
        "def f(a,b,N=10000):\n",
        "    if(a>=b): return\n",
        "    #Making the cdf function as per a and b\n",
        "    def cdf(a,b,x):\n",
        "        if(x<=a): return 0\n",
        "        elif(a<x<b): return (x-a)/(b-a)\n",
        "        else: return 1\n",
        "    # Generating an array of x values\n",
        "    xvals = np.linspace(a-1,b+1,1000)\n",
        "    #Computing Fx[X]\n",
        "    dist = pd.DataFrame(xvals,columns=[\"X\"])\n",
        "    dist['CDF'] = dist['X'].apply(lambda x: cdf(a,b,x))\n",
        "    #Plotting the CDF using Matplotlib\n",
        "    fig,axes = plt.subplots(figsize=(10,6))\n",
        "    axes.plot(xvals,dist['CDF'],color=\"green\")\n",
        "    axes.set_xlabel(\"Random Variable (X)\")\n",
        "    axes.set_ylabel(\"CDF\")\n",
        "    axes.set_title(\"Plot of CDF of Uniform Distribution\")\n",
        "f(2,5)  \n"
      ]
    },
    {
      "cell_type": "markdown",
      "metadata": {
        "id": "EbqUecGtnRqg"
      },
      "source": [
        "#### Q2. (Optional)\n",
        "A continuous random variable 𝑋 follows an Exponential distribution with a given rate parameter 𝜆. The probability density function (PDF) of 𝑋 is:\n",
        "    $$ f_X(x)=λe^{−λx} ,x≥0 $$\n",
        "\n",
        "Your task is to derive and compute the CDF $𝐹_𝑋(𝑥)$ of the given exponential distribution for a given 𝜆.\n",
        "\n",
        "Instructions:\n",
        "1. Write a function that takes 𝑥 and 𝜆 as input and returns the cumulative distribution function (CDF) $ 𝐹_𝑋(𝑥)$.\n",
        "2. Compute the CDF for different values of 𝑥 in the range [0, 5].\n",
        "3. Plot the CDF curve for a given 𝜆."
      ]
    },
    {
      "cell_type": "markdown",
      "metadata": {
        "id": "514sAxynnOZI"
      },
      "source": [
        "#### Q3. (Optional)\n",
        "A continuous random variable 𝑋 follows an Exponential distribution with a rate parameter 𝜆. The PDF of 𝑋 is given as:\n",
        "$$ 𝑓_𝑋(𝑥)=𝜆𝑒^{−𝜆𝑥},𝑥≥0 $$\n",
        "\n",
        "Your task is to compute the probability 𝑃(1≤𝑋≤3) using two different approaches:\n",
        "\n",
        "(a) PDF Approach:\n",
        "Compute the probability using numerical integration of the PDF over the interval [1,3].\n",
        "\n",
        "(b) CDF Approach:\n",
        "Compute the probability using the CDF formula.\n"
      ]
    },
    {
      "cell_type": "markdown",
      "metadata": {
        "id": "d_m5esZMzwS-"
      },
      "source": [
        "\n",
        "# 13. **Mean, Mode, and Median**  \n",
        "*(Refer to https://probability4datascience.com/slides/Slide_4_04.pdf)*\n",
        "\n"
      ]
    },
    {
      "cell_type": "markdown",
      "metadata": {
        "id": "zeYcynFr3Ths"
      },
      "source": [
        "#### Q1. (Optional)\n",
        "#### Compute Summary Statistics:\n",
        "   Using a numerical dataset, write a Python snippet to compute the mean, median, and mode using built-in libraries.  \n",
        "\n"
      ]
    },
    {
      "cell_type": "code",
      "execution_count": 22,
      "metadata": {},
      "outputs": [
        {
          "data": {
            "application/vnd.jupyter.widget-view+json": {
              "model_id": "8484cc494cac4a81b176904b1a604157",
              "version_major": 2,
              "version_minor": 0
            },
            "text/plain": [
              "interactive(children=(IntSlider(value=500, description='Size', max=1500, min=100, step=50), Output()), _dom_cl…"
            ]
          },
          "metadata": {},
          "output_type": "display_data"
        },
        {
          "data": {
            "text/plain": [
              "<function __main__.gen_data(N)>"
            ]
          },
          "execution_count": 22,
          "metadata": {},
          "output_type": "execute_result"
        }
      ],
      "source": [
        "import ipywidgets as widgets\n",
        "from ipywidgets import interact\n",
        "def gen_data(N):\n",
        "    data = pd.Series(torch.randint(1,100,(N,)).numpy())\n",
        "    display(data.head(10))\n",
        "    print(\"Mean: \",data.mean())\n",
        "    print(\"Median: \",data.median())\n",
        "    print(\"Mode: \",data.mode()[0])\n",
        "n = widgets.IntSlider(min=100,max=1500,step=50,value=500,description=\"Size\")\n",
        "interact(gen_data,N=n)  "
      ]
    },
    {
      "cell_type": "markdown",
      "metadata": {
        "id": "PxWPALs33V2G"
      },
      "source": [
        "#### Q2. (**Mandatory**)\n",
        "#### Visualize Distribution with Markers:  \n",
        "   Generate a sample (e.g., from a normal distribution) and plot its histogram. Then mark the mean (red), median (green), and an approximate mode (blue, as the bin with maximum count) on the plot.  \n",
        "   \n",
        "\n"
      ]
    },
    {
      "cell_type": "markdown",
      "metadata": {},
      "source": [
        "Answer\n",
        "## Probability Density Function of Normal Distribution\n",
        "\n",
        "The probability density function (PDF) of a normal distribution is given by:\n",
        "\n",
        "$$\n",
        "f(x) = \\frac{1}{\\sigma \\sqrt{2\\pi}} e^{-\\frac{(x-\\mu)^2}{2\\sigma^2}}\n",
        "$$\n",
        "\n",
        "where:\n",
        "-  $ \\mu $  is the mean,\n",
        "-  $ \\sigma $ is the standard deviation."
      ]
    },
    {
      "cell_type": "code",
      "execution_count": 23,
      "metadata": {},
      "outputs": [
        {
          "data": {
            "image/png": "[encoded data removed]",
            "text/plain": [
              "<Figure size 640x480 with 1 Axes>"
            ]
          },
          "metadata": {},
          "output_type": "display_data"
        }
      ],
      "source": [
        "def plot_normal_hist(mu,sigma,N=1000,bins=30):\n",
        "    dist = torch.distributions.Normal(mu,sigma)\n",
        "    samples = dist.sample((N,)).numpy()\n",
        "    plt.hist(samples,bins=bins,alpha=0.4,color=\"magenta\",label=f\"PDF N({mu},{sigma})\")\n",
        "    samples = pd.Series(samples)\n",
        "    \n",
        "    plt.axvline(samples.mean(),color=\"red\",label=\"Mean\",linestyle=\"dashed\")\n",
        "    plt.axvline(samples.median(),color=\"green\",label=\"Median\",linestyle=\"dashed\")\n",
        "    \n",
        "    #Calculating the mode (Mid of bin with maximum freq) \n",
        "    hist, bin_edges = np.histogram(samples,bins)\n",
        "    maxFreqBinIndex = np.argmax(hist)\n",
        "    mode = (bin_edges[maxFreqBinIndex] + bin_edges[maxFreqBinIndex+1])/2 \n",
        "    plt.axvline(mode,color=\"blue\",label=\"Mode\",linestyle=\"dashed\")\n",
        "    \n",
        "    plt.xlabel(\"Random Variable (x)\")\n",
        "    plt.ylabel(\"Sample at x\")\n",
        "    plt.title(\"Histogram plot of Normal Distribution\")\n",
        "    plt.legend()\n",
        "    plt.show()\n",
        "plot_normal_hist(5,10)"
      ]
    },
    {
      "cell_type": "markdown",
      "metadata": {
        "id": "t8YOCtsx3Yqj"
      },
      "source": [
        "### Q3. (Optional)\n",
        "#### Sample vs. Theoretical Comparison:\n",
        "   Generate 1000 samples from a known distribution (e.g., Uniform over [0, 10]) and compute the sample mean, median, and mode. Compare these with the theoretical values (mean = 5, median = 5).  \n",
        "\n"
      ]
    },
    {
      "cell_type": "code",
      "execution_count": 24,
      "metadata": {},
      "outputs": [
        {
          "data": {
            "text/html": [
              "<div>\n",
              "<style scoped>\n",
              "    .dataframe tbody tr th:only-of-type {\n",
              "        vertical-align: middle;\n",
              "    }\n",
              "\n",
              "    .dataframe tbody tr th {\n",
              "        vertical-align: top;\n",
              "    }\n",
              "\n",
              "    .dataframe thead th {\n",
              "        text-align: right;\n",
              "    }\n",
              "</style>\n",
              "<table border=\"1\" class=\"dataframe\">\n",
              "  <thead>\n",
              "    <tr style=\"text-align: right;\">\n",
              "      <th></th>\n",
              "      <th>Sample</th>\n",
              "      <th>Theoretical</th>\n",
              "      <th>Deviation(Theoretical - Sample)\"</th>\n",
              "    </tr>\n",
              "  </thead>\n",
              "  <tbody>\n",
              "    <tr>\n",
              "      <th>Mean</th>\n",
              "      <td>4.993065</td>\n",
              "      <td>5.0</td>\n",
              "      <td>0.006935</td>\n",
              "    </tr>\n",
              "    <tr>\n",
              "      <th>Median</th>\n",
              "      <td>5.091341</td>\n",
              "      <td>5.0</td>\n",
              "      <td>-0.091341</td>\n",
              "    </tr>\n",
              "  </tbody>\n",
              "</table>\n",
              "</div>"
            ],
            "text/plain": [
              "          Sample  Theoretical  Deviation(Theoretical - Sample)\"\n",
              "Mean    4.993065          5.0                          0.006935\n",
              "Median  5.091341          5.0                         -0.091341"
            ]
          },
          "execution_count": 24,
          "metadata": {},
          "output_type": "execute_result"
        }
      ],
      "source": [
        "dist1 = torch.distributions.Uniform(0,10)\n",
        "sample_size = 1000\n",
        "samples = pd.Series(dist1.sample((sample_size,)))\n",
        "data = pd.DataFrame(data={\n",
        "        \"Sample\": [samples.mean(),samples.median()],\n",
        "    \"Theoretical\": [dist1.mean.item(),((dist1.low + dist1.high)/2).item()]\n",
        "}, index=[\"Mean\",\"Median\"])\n",
        "data['Deviation(Theoretical - Sample)\"'] = data[\"Theoretical\"] - data[\"Sample\"]\n",
        "data"
      ]
    },
    {
      "cell_type": "markdown",
      "metadata": {
        "id": "l0skLvBQ3OGf"
      },
      "source": [
        "# 14. **Uniform Random Variables**  \n",
        "*(Refer to https://probability4datascience.com/slides/Slide_4_05.pdf)*\n"
      ]
    },
    {
      "cell_type": "markdown",
      "metadata": {
        "id": "GqS_q7k43fxi"
      },
      "source": [
        "#### Q1. (**Mandatory**)\n",
        "#### Simulate and Plot PDF & CDF:  \n",
        "   Simulate a Uniform random variable over [2, 5] and plot its PDF and CDF using matplotlib, matching the formulas in the slide.  \n",
        "  "
      ]
    },
    {
      "cell_type": "markdown",
      "metadata": {},
      "source": [
        "# Probability Density Function of Uniform Distribution  \n",
        "\n",
        "The probability density function (PDF) of a uniform distribution is given by:  \n",
        "\n",
        "$$\n",
        "f(x) =\n",
        "\\begin{cases} \n",
        "\\frac{1}{b - a}, & a \\leq x \\leq b \\\\\n",
        "0, & \\text{otherwise}\n",
        "\\end{cases}\n",
        "$$\n",
        "where:  \n",
        "- a is the lower bound,  \n",
        "- b is the upper bound.  \n"
      ]
    },
    {
      "cell_type": "code",
      "execution_count": 25,
      "metadata": {},
      "outputs": [
        {
          "data": {
            "text/html": [
              "<div>\n",
              "<style scoped>\n",
              "    .dataframe tbody tr th:only-of-type {\n",
              "        vertical-align: middle;\n",
              "    }\n",
              "\n",
              "    .dataframe tbody tr th {\n",
              "        vertical-align: top;\n",
              "    }\n",
              "\n",
              "    .dataframe thead th {\n",
              "        text-align: right;\n",
              "    }\n",
              "</style>\n",
              "<table border=\"1\" class=\"dataframe\">\n",
              "  <thead>\n",
              "    <tr style=\"text-align: right;\">\n",
              "      <th></th>\n",
              "      <th>x</th>\n",
              "      <th>y</th>\n",
              "    </tr>\n",
              "  </thead>\n",
              "  <tbody>\n",
              "    <tr>\n",
              "      <th>0</th>\n",
              "      <td>-12.000000</td>\n",
              "      <td>0.0</td>\n",
              "    </tr>\n",
              "    <tr>\n",
              "      <th>1</th>\n",
              "      <td>-11.972973</td>\n",
              "      <td>0.0</td>\n",
              "    </tr>\n",
              "    <tr>\n",
              "      <th>2</th>\n",
              "      <td>-11.945946</td>\n",
              "      <td>0.0</td>\n",
              "    </tr>\n",
              "    <tr>\n",
              "      <th>3</th>\n",
              "      <td>-11.918919</td>\n",
              "      <td>0.0</td>\n",
              "    </tr>\n",
              "    <tr>\n",
              "      <th>4</th>\n",
              "      <td>-11.891892</td>\n",
              "      <td>0.0</td>\n",
              "    </tr>\n",
              "  </tbody>\n",
              "</table>\n",
              "</div>"
            ],
            "text/plain": [
              "           x    y\n",
              "0 -12.000000  0.0\n",
              "1 -11.972973  0.0\n",
              "2 -11.945946  0.0\n",
              "3 -11.918919  0.0\n",
              "4 -11.891892  0.0"
            ]
          },
          "execution_count": 25,
          "metadata": {},
          "output_type": "execute_result"
        }
      ],
      "source": [
        "#Making the Uniform distribution from scratch\n",
        "a,b = 2,5\n",
        "sample_size = 1000\n",
        "dist2 = pd.DataFrame(data={\n",
        "    \"x\":np.linspace(-a-10,b+10,sample_size),\n",
        "}) \n",
        "y = 1/(b - a)\n",
        "dist2['y'] = dist2['x'].apply(lambda x: y if(a<= x <= b) else 0)\n",
        "dist2.head()"
      ]
    },
    {
      "cell_type": "code",
      "execution_count": 26,
      "metadata": {},
      "outputs": [
        {
          "data": {
            "image/png": "[encoded data removed]",
            "text/plain": [
              "<Figure size 640x480 with 1 Axes>"
            ]
          },
          "metadata": {},
          "output_type": "display_data"
        }
      ],
      "source": [
        "#plotting the PDF\n",
        "dist2.plot(x='x',y='y',xlabel=\"Random Variable of Uniform Distribution (x)\",\n",
        "        ylabel = \"Density\")\n",
        "dx = np.diff(dist2['x']).mean()\n",
        "mean_data = (dist2['x']*dist2['y']).sum() * dx\n",
        "median = (a+b)/2\n",
        "plt.axvline(x=mean_data,color='green',label=\"Mean\",alpha=0.5)\n",
        "plt.axvline(x=median,color='pink',label=\"Median\",alpha=0.5)\n",
        "plt.legend()\n",
        "plt.show()"
      ]
    },
    {
      "cell_type": "code",
      "execution_count": 27,
      "metadata": {},
      "outputs": [
        {
          "data": {
            "text/plain": [
              "<Axes: title={'center': 'CDF of Uniform Distribution'}, xlabel='Random Variable of Uniform Distribution', ylabel='Cummulative Sum'>"
            ]
          },
          "execution_count": 27,
          "metadata": {},
          "output_type": "execute_result"
        },
        {
          "data": {
            "image/png": "[encoded data removed]",
            "text/plain": [
              "<Figure size 640x480 with 1 Axes>"
            ]
          },
          "metadata": {},
          "output_type": "display_data"
        }
      ],
      "source": [
        "#Plotting the CDF\n",
        "dist2['CDF'] = np.cumsum(dist2['y']*dx)\n",
        "slope = round(1/(b-a),3)\n",
        "dist2.plot(x='x',y='CDF',xlabel=\"Random Variable of Uniform Distribution\",\n",
        "        ylabel=\"Cummulative Sum\",title=\"CDF of Uniform Distribution\",label = f\"CDF, slope = {slope}\")   "
      ]
    },
    {
      "cell_type": "markdown",
      "metadata": {
        "id": "skM9aJZW3iay"
      },
      "source": [
        "\n",
        "#### Q2. (Optional)\n",
        "#### Compute Theoretical Moments:\n",
        "   Calculate the theoretical mean and variance for a Uniform(a, b) random variable with a = 2 and b = 5 using the formulas from the slide.  \n",
        "  "
      ]
    },
    {
      "cell_type": "code",
      "execution_count": 28,
      "metadata": {},
      "outputs": [],
      "source": [
        "k = 1\n",
        "a,b = 2,5"
      ]
    },
    {
      "cell_type": "markdown",
      "metadata": {},
      "source": [
        "## Theoretical mean of Uniform(a,b) is <br>\n",
        "$$\n",
        "\\frac{a+b}{2}\n",
        "$$\n",
        "<br>\n",
        "\n",
        "## Theoretical variance of Uniform(a,b) is <br>\n",
        "\n",
        "$$\n",
        "\\frac{(b-a)^2}{12}\n",
        "$$\n",
        "\n"
      ]
    },
    {
      "cell_type": "code",
      "execution_count": 29,
      "metadata": {},
      "outputs": [
        {
          "name": "stdout",
          "output_type": "stream",
          "text": [
            "Theoretical Mean of Uniform(a,b) =  3.5\n",
            "Theoretical Variance of Uniform(a,b) =  0.75\n"
          ]
        }
      ],
      "source": [
        "print(\"Theoretical Mean of Uniform(a,b) = \",(a+b)/2)\n",
        "print(\"Theoretical Variance of Uniform(a,b) = \",((b-a)**2)/12)"
      ]
    },
    {
      "cell_type": "markdown",
      "metadata": {
        "id": "0SEtyKe93kpO"
      },
      "source": [
        "#### Q3. (Optional)\n",
        "#### Probability Calculation Using CDF:  \n",
        "   For X ∼ Uniform(2, 5), compute P[3 ≤ X ≤ 4] using the CDF approach described in the slide.  \n"
      ]
    },
    {
      "cell_type": "markdown",
      "metadata": {},
      "source": [
        "Answer <br>\n",
        "**CDF of Uniform Distribution**\n",
        "For a **Uniform(a, b)** distribution, the **Cumulative Distribution Function (CDF)** is:\n",
        "$$\n",
        "F(x) =\n",
        "\\begin{cases} \n",
        "0, & x < a \\\\\n",
        "\\frac{x - a}{b - a}, & a \\leq x \\leq b \\\\\n",
        "1, & x > b\n",
        "\\end{cases} $$\n",
        "<br> On Substituting a = 2 and b = 5 we get:\n",
        "$$ F(x) = \\frac{x - 2}{5 - 2} = \\frac{x - 2}{3}, \\quad 2 \\leq x \\leq 5 $$\n",
        "\n",
        "$$ P[A \\leq X \\leq B] = F(B) - F(A) $$ \n",
        "$$ P[3 \\leq X \\leq 4] = F(4) - F(3) $$\n",
        "$$ = \\frac{2}{3} - \\frac{1}{3} $$ \n",
        "$$ = \\frac{1}{3} $$"
      ]
    },
    {
      "cell_type": "markdown",
      "metadata": {
        "id": "3tuOTuNw3nF_"
      },
      "source": [
        "# 15. **Exponential Random Variables**  \n",
        "*(Refer https://probability4datascience.com/slides/Slide_4_06.pdf)*\n"
      ]
    },
    {
      "cell_type": "markdown",
      "metadata": {
        "id": "vaKxmFwk3o-a"
      },
      "source": [
        "#### Q1. (**Mandatory**)\n",
        "#### Simulate and Overlay Theoretical PDF:  \n",
        "   Simulate 1000 samples from an Exponential(λ = 0.5) distribution, then plot a histogram of the samples with the theoretical PDF overlay.  \n",
        "  \n"
      ]
    },
    {
      "cell_type": "markdown",
      "metadata": {},
      "source": [
        "##### Answer\n",
        "For an **Exponential(λ) distribution**, the probability density function (PDF) is:\n",
        "\n",
        "$$\n",
        "f(x) =\n",
        "\\begin{cases} \n",
        "\\lambda e^{-\\lambda x}, & x \\geq 0 \\\\\n",
        "0, & x < 0\n",
        "\\end{cases}\n",
        "$$\n",
        "where $ \\lambda $ is the **rate parameter**."
      ]
    },
    {
      "cell_type": "code",
      "execution_count": 30,
      "metadata": {},
      "outputs": [
        {
          "data": {
            "text/html": [
              "<div>\n",
              "<style scoped>\n",
              "    .dataframe tbody tr th:only-of-type {\n",
              "        vertical-align: middle;\n",
              "    }\n",
              "\n",
              "    .dataframe tbody tr th {\n",
              "        vertical-align: top;\n",
              "    }\n",
              "\n",
              "    .dataframe thead th {\n",
              "        text-align: right;\n",
              "    }\n",
              "</style>\n",
              "<table border=\"1\" class=\"dataframe\">\n",
              "  <thead>\n",
              "    <tr style=\"text-align: right;\">\n",
              "      <th></th>\n",
              "      <th>Samples</th>\n",
              "    </tr>\n",
              "  </thead>\n",
              "  <tbody>\n",
              "    <tr>\n",
              "      <th>0</th>\n",
              "      <td>0.826606</td>\n",
              "    </tr>\n",
              "    <tr>\n",
              "      <th>1</th>\n",
              "      <td>0.205556</td>\n",
              "    </tr>\n",
              "    <tr>\n",
              "      <th>2</th>\n",
              "      <td>1.794528</td>\n",
              "    </tr>\n",
              "    <tr>\n",
              "      <th>3</th>\n",
              "      <td>2.151853</td>\n",
              "    </tr>\n",
              "    <tr>\n",
              "      <th>4</th>\n",
              "      <td>2.151992</td>\n",
              "    </tr>\n",
              "    <tr>\n",
              "      <th>5</th>\n",
              "      <td>0.807455</td>\n",
              "    </tr>\n",
              "  </tbody>\n",
              "</table>\n",
              "</div>"
            ],
            "text/plain": [
              "    Samples\n",
              "0  0.826606\n",
              "1  0.205556\n",
              "2  1.794528\n",
              "3  2.151853\n",
              "4  2.151992\n",
              "5  0.807455"
            ]
          },
          "execution_count": 30,
          "metadata": {},
          "output_type": "execute_result"
        }
      ],
      "source": [
        "N = 1000 \n",
        "lambda_param = 0.5 \n",
        "\n",
        "# Generate samples from Exponential(λ)\n",
        "dist3 = torch.distributions.Exponential(lambda_param)\n",
        "samples = dist3.sample((N,)).numpy()\n",
        "pd.DataFrame(samples,columns=[\"Samples\"]).head(6)"
      ]
    },
    {
      "cell_type": "code",
      "execution_count": 31,
      "metadata": {},
      "outputs": [
        {
          "data": {
            "text/html": [
              "<div>\n",
              "<style scoped>\n",
              "    .dataframe tbody tr th:only-of-type {\n",
              "        vertical-align: middle;\n",
              "    }\n",
              "\n",
              "    .dataframe tbody tr th {\n",
              "        vertical-align: top;\n",
              "    }\n",
              "\n",
              "    .dataframe thead th {\n",
              "        text-align: right;\n",
              "    }\n",
              "</style>\n",
              "<table border=\"1\" class=\"dataframe\">\n",
              "  <thead>\n",
              "    <tr style=\"text-align: right;\">\n",
              "      <th></th>\n",
              "      <th>Density</th>\n",
              "    </tr>\n",
              "  </thead>\n",
              "  <tbody>\n",
              "    <tr>\n",
              "      <th>0</th>\n",
              "      <td>0.500000</td>\n",
              "    </tr>\n",
              "    <tr>\n",
              "      <th>1</th>\n",
              "      <td>0.495823</td>\n",
              "    </tr>\n",
              "    <tr>\n",
              "      <th>2</th>\n",
              "      <td>0.491682</td>\n",
              "    </tr>\n",
              "    <tr>\n",
              "      <th>3</th>\n",
              "      <td>0.487575</td>\n",
              "    </tr>\n",
              "    <tr>\n",
              "      <th>4</th>\n",
              "      <td>0.483502</td>\n",
              "    </tr>\n",
              "    <tr>\n",
              "      <th>5</th>\n",
              "      <td>0.479463</td>\n",
              "    </tr>\n",
              "  </tbody>\n",
              "</table>\n",
              "</div>"
            ],
            "text/plain": [
              "    Density\n",
              "0  0.500000\n",
              "1  0.495823\n",
              "2  0.491682\n",
              "3  0.487575\n",
              "4  0.483502\n",
              "5  0.479463"
            ]
          },
          "execution_count": 31,
          "metadata": {},
          "output_type": "execute_result"
        }
      ],
      "source": [
        "# Theoretical PDF calculation\n",
        "x = np.linspace(0, samples.max(), 1000)  # X-axis range\n",
        "pdf = lambda_param * np.exp(-lambda_param * x)  # Exponential PDF formula\n",
        "pd.DataFrame(pdf,columns=[\"Density\"]).head(6)"
      ]
    },
    {
      "cell_type": "code",
      "execution_count": 32,
      "metadata": {},
      "outputs": [
        {
          "data": {
            "text/plain": [
              "<matplotlib.legend.Legend at 0x1784435a210>"
            ]
          },
          "execution_count": 32,
          "metadata": {},
          "output_type": "execute_result"
        },
        {
          "data": {
            "image/png": "[encoded data removed]",
            "text/plain": [
              "<Figure size 1300x700 with 1 Axes>"
            ]
          },
          "metadata": {},
          "output_type": "display_data"
        }
      ],
      "source": [
        "fig, ax = plt.subplots(figsize=(13, 7))\n",
        "# Plot Histogram\n",
        "ax.hist(samples, bins=30, density=True, color=\"blue\", alpha=0.6, label=\"Simulated Samples\")\n",
        "\n",
        "# Overlay Theoretical PDF\n",
        "ax.plot(x, pdf, color=\"red\", linewidth=2.5, label=\"Theoretical PDF (λ=0.5)\")\n",
        "\n",
        "ax.set_title(\"Histogram of Samples with Theoretical PDF Overlay\", fontsize=14)\n",
        "ax.set_xlabel(\"Random Variable (x)\")\n",
        "ax.set_ylabel(\"Density\")\n",
        "ax.legend()\n"
      ]
    },
    {
      "cell_type": "markdown",
      "metadata": {
        "id": "fuPm4Afj3qfz"
      },
      "source": [
        "#### Q2. (Optional)\n",
        "#### Theoretical Mean and Variance:  \n",
        "   Using the formulas from the slide, compute the theoretical mean and variance for an Exponential distribution with λ = 0.5.  \n"
      ]
    },
    {
      "cell_type": "markdown",
      "metadata": {},
      "source": [
        "##### Answer\n",
        "Theoretical mean of exponential distribution is : $ \\frac{1}{\\lambda} $ \n",
        "\n",
        "Theoretical variance of exponential distribution is : $ \\frac{1}{\\lambda^2} $ "
      ]
    },
    {
      "cell_type": "code",
      "execution_count": 33,
      "metadata": {},
      "outputs": [
        {
          "name": "stdout",
          "output_type": "stream",
          "text": [
            "Mean =  2.0\n",
            "Variance =  4.0\n"
          ]
        }
      ],
      "source": [
        "rpr = 0.5\n",
        "print(\"Mean = \",1/rpr)\n",
        "print(\"Variance = \",1/rpr**2)"
      ]
    },
    {
      "cell_type": "markdown",
      "metadata": {
        "id": "PEto26mF3sH3"
      },
      "source": [
        "#### Q3. (Optional)\n",
        "#### Compute Tail Probability:  \n",
        "   For an Exponential(λ = 0.5) random variable, calculate P[T > 3] using the survival function (i.e. 1 – CDF) as derived in the slide.  \n",
        "  "
      ]
    },
    {
      "cell_type": "markdown",
      "metadata": {},
      "source": [
        "##### Answer\n",
        "CDF of exponential distribution is given by:\n",
        "$$\n",
        "F(x) = \n",
        "\\begin{cases}\n",
        "0, & \\text{if } x \\leq 0 \\\\ \n",
        "1-e^{\\lambda x}, & \\text{if } x>0\n",
        "\\end{cases}\n",
        "$$ \n",
        "\n",
        "$$\n",
        "P[T>3] = 1 - F[3]\n",
        "= 1 - (1 - e^{0.5 * 3})\n",
        "= e^{1.5}\n",
        "$$"
      ]
    },
    {
      "cell_type": "code",
      "execution_count": 34,
      "metadata": {},
      "outputs": [
        {
          "name": "stdout",
          "output_type": "stream",
          "text": [
            "P[T>3] =  4.482\n"
          ]
        }
      ],
      "source": [
        "import math\n",
        "print(\"P[T>3] = \",round(math.exp(1.5),3))"
      ]
    },
    {
      "cell_type": "markdown",
      "metadata": {
        "id": "S6JARdOOojiQ"
      },
      "source": [
        "# 16. **Gaussian Random Variables**"
      ]
    },
    {
      "cell_type": "markdown",
      "metadata": {
        "id": "GsBA9c49pYjA"
      },
      "source": [
        "#### Q1. (**Mandatory**)\n",
        "The PDF of a Gaussian random variable $ X \\sim \\mathcal{N}(\\mu, \\sigma^2) $ is given by:\n",
        "\n",
        " $$\n",
        " f_X(x) = \\frac{1}{\\sqrt{2\\pi\\sigma^2}} \\exp\\left(-\\frac{(x-\\mu)^2}{2\\sigma^2}\\right).\n",
        " $$\n",
        "1. Use `torch.distributions`, generate 100 random samples from a Gaussian distribution with a mean of 3 and a standard deviation of 2.\n",
        "2. Plot a histogram of the samples and calculate the sample mean and variance of the distribution.\n",
        "3. Repeat this process for sample sizes of 10000 and 1000000.\n",
        "\n",
        "Observe how the shape of the histogram changes as the sample size increases. What patterns or trends do you notice in the calculated sample mean and variance?"
      ]
    },
    {
      "cell_type": "code",
      "execution_count": 35,
      "metadata": {},
      "outputs": [
        {
          "ename": "SyntaxError",
          "evalue": "invalid syntax (1430265713.py, line 1)",
          "output_type": "error",
          "traceback": [
            "\u001b[1;36m  Cell \u001b[1;32mIn[35], line 1\u001b[1;36m\u001b[0m\n\u001b[1;33m    import\u001b[0m\n\u001b[1;37m           ^\u001b[0m\n\u001b[1;31mSyntaxError\u001b[0m\u001b[1;31m:\u001b[0m invalid syntax\n"
          ]
        }
      ],
      "source": [
        "import \n",
        "def hist_plot(N):\n",
        "    mu = 3\n",
        "    sigma = 2\n",
        "    dist4 = torch.distributions.Normal(mu,sigma)\n",
        "    sample = dist4.sample((N,))\n",
        "    pd.Series(sample).plot(kind='hist',\n",
        "        title=f\"Normal Distribution Histogram, Sample size = {N}\",\n",
        "        xlabel=\"Random variable bins\",ylabel=\"Frequency\")\n",
        "\n",
        "sampleRadios = widgets.RadioButtons(options=[100,10000,1000000],\n",
        "                description=\"Sample Size\")\n",
        "interact(hist_plot,N=sampleRadios)"
      ]
    },
    {
      "cell_type": "markdown",
      "metadata": {},
      "source": [
        "# Exp"
      ]
    },
    {
      "cell_type": "markdown",
      "metadata": {
        "id": "yQwLB_5PrlSG"
      },
      "source": [
        "#### Q2. (Optional)\n",
        "Let $ X \\sim \\mathcal{N}(0,1) $ be a standard Gaussian random variable. Define a new random\n",
        "variable $ Y = 4X + 10 $. What is the distribution of $ Y $? Verify your answer by ploting histogram of random variable $Y$. You can use `torch.distributions` for generating samples for Gaussian random vairable."
      ]
    },
    {
      "cell_type": "markdown",
      "metadata": {
        "id": "xvzp2VRfyMwF"
      },
      "source": [
        "#### Q3. (Optional)\n",
        "\n",
        "Let $X \\sim \\mathcal{N}(\\mu_1, \\sigma_1^2)$ with $\\mu_1 = 3$ and $\\sigma_1 = 2$, and let\n",
        "$Y \\sim \\mathcal{N}(\\mu_2, \\sigma_2^2)$ with $\\mu_2 = -1$ and $\\sigma_2 = 1$. Define a new random variable\n",
        "$Z = X + Y$.\n",
        "1. Determine the theoretical mean and variance of Z. Write this in a markdown cell.\n",
        "2. Verify the theoretical mean and variance that you get by generating 10,000 samples for 𝑋 and 𝑌 using `torch.distributions` and computing their sum to get 𝑍. Print the empirical mean and variance of 𝑍.\n",
        "3. Plot histogram of the distribution of random variable 𝑍.\n"
      ]
    },
    {
      "cell_type": "markdown",
      "metadata": {},
      "source": [
        "Answer:\n",
        "\n",
        "$$\n",
        "E[X+Y] = E[X] + E[Y] \n",
        "= \\mu_1+ \\mu_2\n",
        "= 3 - 1 = 2   \n",
        "$$\n",
        "\n",
        "$$\n",
        "\\sigma_Z^{2} = \\sigma_1^{2} + \\sigma_2^{2} = 4 + 1  = 5"
      ]
    },
    {
      "cell_type": "code",
      "execution_count": null,
      "metadata": {},
      "outputs": [
        {
          "name": "stdout",
          "output_type": "stream",
          "text": [
            "Mean of Z is:  1.9622445\n",
            "Variance of Z is:  5.0574317\n"
          ]
        }
      ],
      "source": [
        "N = 10000\n",
        "normalDist1 = torch.distributions.Normal(3,2)\n",
        "sampl1 = normalDist1.sample((N,))\n",
        "normalDist2 = torch.distributions.Normal(-1,1)\n",
        "sampl2 = normalDist2.sample((N,))\n",
        "Z_sample = sampl1 + sampl2\n",
        "df = pd.DataFrame(Z_sample,columns=[\"Sample\"])\n",
        "print(\"Mean of Z is: \",df['Sample'].mean())\n",
        "print(\"Variance of Z is: \",df['Sample'].var())"
      ]
    },
    {
      "cell_type": "code",
      "execution_count": null,
      "metadata": {},
      "outputs": [
        {
          "data": {
            "text/plain": [
              "<Axes: ylabel='Frequency'>"
            ]
          },
          "execution_count": 222,
          "metadata": {},
          "output_type": "execute_result"
        },
        {
          "data": {
            "image/png": "[encoded data removed]",
            "text/plain": [
              "<Figure size 640x480 with 1 Axes>"
            ]
          },
          "metadata": {},
          "output_type": "display_data"
        }
      ],
      "source": [
        "df.plot(kind='hist')"
      ]
    },
    {
      "cell_type": "markdown",
      "metadata": {
        "id": "PrIOv6XFSvCn"
      },
      "source": [
        "# 17. **Transformation of random Variables**"
      ]
    },
    {
      "cell_type": "markdown",
      "metadata": {
        "id": "Rcb28bTIUa63"
      },
      "source": [
        "#### Q1. (**Mandatory**)\n",
        "Write a function that performs the following tasks:\n",
        "\n",
        "1. Generate 10,000 samples from a uniform distribution in the range [0, 1].\n",
        "2. Apply a linear transformation Y = 2X + 3 to the generated samples.\n",
        "3. Plot the histogram of the original samples and the transformed samples side by side.\n",
        "4. Calculate and print the mean and variance of both the original and transformed distributions."
      ]
    },
    {
      "cell_type": "code",
      "execution_count": null,
      "metadata": {},
      "outputs": [
        {
          "data": {
            "text/html": [
              "<div>\n",
              "<style scoped>\n",
              "    .dataframe tbody tr th:only-of-type {\n",
              "        vertical-align: middle;\n",
              "    }\n",
              "\n",
              "    .dataframe tbody tr th {\n",
              "        vertical-align: top;\n",
              "    }\n",
              "\n",
              "    .dataframe thead th {\n",
              "        text-align: right;\n",
              "    }\n",
              "</style>\n",
              "<table border=\"1\" class=\"dataframe\">\n",
              "  <thead>\n",
              "    <tr style=\"text-align: right;\">\n",
              "      <th></th>\n",
              "      <th>Samples</th>\n",
              "    </tr>\n",
              "  </thead>\n",
              "  <tbody>\n",
              "    <tr>\n",
              "      <th>0</th>\n",
              "      <td>2.134834</td>\n",
              "    </tr>\n",
              "    <tr>\n",
              "      <th>1</th>\n",
              "      <td>1.947850</td>\n",
              "    </tr>\n",
              "    <tr>\n",
              "      <th>2</th>\n",
              "      <td>1.956471</td>\n",
              "    </tr>\n",
              "    <tr>\n",
              "      <th>3</th>\n",
              "      <td>1.417762</td>\n",
              "    </tr>\n",
              "    <tr>\n",
              "      <th>4</th>\n",
              "      <td>0.192703</td>\n",
              "    </tr>\n",
              "  </tbody>\n",
              "</table>\n",
              "</div>"
            ],
            "text/plain": [
              "    Samples\n",
              "0  2.134834\n",
              "1  1.947850\n",
              "2  1.956471\n",
              "3  1.417762\n",
              "4  0.192703"
            ]
          },
          "execution_count": 223,
          "metadata": {},
          "output_type": "execute_result"
        }
      ],
      "source": [
        "#1.\n",
        "N = 10000\n",
        "a = 0\n",
        "b = 5\n",
        "dist5 = torch.distributions.Uniform(0,5)\n",
        "uniformSamples = dist5.sample((N,))\n",
        "pd.DataFrame(uniformSamples,columns=['Samples']).head()"
      ]
    },
    {
      "cell_type": "code",
      "execution_count": null,
      "metadata": {},
      "outputs": [
        {
          "data": {
            "text/html": [
              "<div>\n",
              "<style scoped>\n",
              "    .dataframe tbody tr th:only-of-type {\n",
              "        vertical-align: middle;\n",
              "    }\n",
              "\n",
              "    .dataframe tbody tr th {\n",
              "        vertical-align: top;\n",
              "    }\n",
              "\n",
              "    .dataframe thead th {\n",
              "        text-align: right;\n",
              "    }\n",
              "</style>\n",
              "<table border=\"1\" class=\"dataframe\">\n",
              "  <thead>\n",
              "    <tr style=\"text-align: right;\">\n",
              "      <th></th>\n",
              "      <th>Samples</th>\n",
              "    </tr>\n",
              "  </thead>\n",
              "  <tbody>\n",
              "    <tr>\n",
              "      <th>0</th>\n",
              "      <td>7.269668</td>\n",
              "    </tr>\n",
              "    <tr>\n",
              "      <th>1</th>\n",
              "      <td>6.895700</td>\n",
              "    </tr>\n",
              "    <tr>\n",
              "      <th>2</th>\n",
              "      <td>6.912941</td>\n",
              "    </tr>\n",
              "    <tr>\n",
              "      <th>3</th>\n",
              "      <td>5.835524</td>\n",
              "    </tr>\n",
              "    <tr>\n",
              "      <th>4</th>\n",
              "      <td>3.385406</td>\n",
              "    </tr>\n",
              "  </tbody>\n",
              "</table>\n",
              "</div>"
            ],
            "text/plain": [
              "    Samples\n",
              "0  7.269668\n",
              "1  6.895700\n",
              "2  6.912941\n",
              "3  5.835524\n",
              "4  3.385406"
            ]
          },
          "execution_count": 224,
          "metadata": {},
          "output_type": "execute_result"
        }
      ],
      "source": [
        "#2.\n",
        "M,C = 2,3\n",
        "uniformSamplesNew = M*uniformSamples + C\n",
        "pd.DataFrame(uniformSamplesNew,columns=['Samples']).head()"
      ]
    },
    {
      "cell_type": "code",
      "execution_count": null,
      "metadata": {},
      "outputs": [
        {
          "data": {
            "text/plain": [
              "Text(0.5, 0.98, 'Histogram Plot Original and Transformed Samples')"
            ]
          },
          "execution_count": 225,
          "metadata": {},
          "output_type": "execute_result"
        },
        {
          "data": {
            "image/png": "[encoded data removed]",
            "text/plain": [
              "<Figure size 1300x600 with 2 Axes>"
            ]
          },
          "metadata": {},
          "output_type": "display_data"
        }
      ],
      "source": [
        "#3.\n",
        "fig,axes = plt.subplots(1,2,figsize=(13,6))\n",
        "axes[0].hist(uniformSamples)\n",
        "axes[0].set_xlabel(\"Original Random Variable (X)\")\n",
        "axes[0].set_ylabel(\"Frequency\")\n",
        "axes[0].set_title(\"Original Samples\")\n",
        "axes[1].hist(uniformSamplesNew)\n",
        "axes[1].set_xlabel(\"New Random Variable (2X+3)\")\n",
        "axes[1].set_ylabel(\"Frequency\")\n",
        "axes[1].set_title(\"New Samples\")\n",
        "fig.suptitle(\"Histogram Plot Original and Transformed Samples\")"
      ]
    },
    {
      "cell_type": "code",
      "execution_count": null,
      "metadata": {},
      "outputs": [
        {
          "data": {
            "text/html": [
              "<div>\n",
              "<style scoped>\n",
              "    .dataframe tbody tr th:only-of-type {\n",
              "        vertical-align: middle;\n",
              "    }\n",
              "\n",
              "    .dataframe tbody tr th {\n",
              "        vertical-align: top;\n",
              "    }\n",
              "\n",
              "    .dataframe thead th {\n",
              "        text-align: right;\n",
              "    }\n",
              "</style>\n",
              "<table border=\"1\" class=\"dataframe\">\n",
              "  <thead>\n",
              "    <tr style=\"text-align: right;\">\n",
              "      <th></th>\n",
              "      <th>Original Data (X)</th>\n",
              "      <th>Transformed Data (2X+3)</th>\n",
              "      <th>Theoretical (2X+3)</th>\n",
              "      <th>Deviation</th>\n",
              "    </tr>\n",
              "  </thead>\n",
              "  <tbody>\n",
              "    <tr>\n",
              "      <th>Mean</th>\n",
              "      <td>2.479</td>\n",
              "      <td>7.957</td>\n",
              "      <td>7.958</td>\n",
              "      <td>0.001</td>\n",
              "    </tr>\n",
              "    <tr>\n",
              "      <th>Median</th>\n",
              "      <td>2.465</td>\n",
              "      <td>7.931</td>\n",
              "      <td>7.930</td>\n",
              "      <td>-0.001</td>\n",
              "    </tr>\n",
              "  </tbody>\n",
              "</table>\n",
              "</div>"
            ],
            "text/plain": [
              "        Original Data (X)  Transformed Data (2X+3)  Theoretical (2X+3)  \\\n",
              "Mean                2.479                    7.957               7.958   \n",
              "Median              2.465                    7.931               7.930   \n",
              "\n",
              "        Deviation  \n",
              "Mean        0.001  \n",
              "Median     -0.001  "
            ]
          },
          "metadata": {},
          "output_type": "display_data"
        }
      ],
      "source": [
        "#4.\n",
        "stats = pd.DataFrame(data={\n",
        "    \"Original Data (X)\": [round(pd.DataFrame(uniformSamples).mean().item(),3),round(pd.DataFrame(uniformSamples).median().item(),3)]\n",
        "    ,\"Transformed Data (2X+3)\": [round(pd.DataFrame(uniformSamplesNew).mean().item(),3),round(pd.DataFrame(uniformSamplesNew).median().item(),3)]\n",
        "},index=[\"Mean\",\"Median\"])\n",
        "stats[\"Theoretical (2X+3)\"] = 2*stats['Original Data (X)'] + 3\n",
        "stats[\"Deviation\"] = stats['Theoretical (2X+3)'] - stats['Transformed Data (2X+3)']\n",
        "display(stats)"
      ]
    },
    {
      "cell_type": "markdown",
      "metadata": {
        "id": "5TnNmiHNSz_f"
      },
      "source": [
        "#### Q2. (Optional)\n",
        "Let X be a continuous random variable following a Uniform(0,1) distribution. Define a new random variable: Y=−ln(X)\n",
        "\n",
        "(a). Generate 10,000 samples of **X** and compute **Y**.\n",
        "\n",
        "(b). Plot the histogram of **Y**, and compare it with the probability density function (PDF) of an exponential distribution with parameter λ=1/2."
      ]
    },
    {
      "cell_type": "code",
      "execution_count": null,
      "metadata": {},
      "outputs": [
        {
          "data": {
            "text/plain": [
              "<Axes: title={'center': 'Histogram of Y = -ln(X)'}, xlabel='Bins', ylabel='Normalised Frequency'>"
            ]
          },
          "execution_count": 227,
          "metadata": {},
          "output_type": "execute_result"
        },
        {
          "data": {
            "image/png": "[encoded data removed]",
            "text/plain": [
              "<Figure size 1300x700 with 1 Axes>"
            ]
          },
          "metadata": {},
          "output_type": "display_data"
        }
      ],
      "source": [
        "N = 10000\n",
        "Udist = torch.distributions.Uniform(0,1)\n",
        "#(a)\n",
        "X = Udist.sample((N,))\n",
        "#(b)\n",
        "Y = -np.log(X)\n",
        "x = np.arange(0,10,0.5)\n",
        "E = 0.5*np.exp(-0.5*x)\n",
        "fig,axes = plt.subplots(figsize=(13,7))\n",
        "pd.DataFrame(Y).plot(kind='hist',xlabel=\"Bins\",ylabel=\"Normalised Frequency\",density=True,title=\"Histogram of Y = -ln(X)\",ax=axes)\n",
        "pd.DataFrame(E).plot(kind='line',ax=axes,label=\"Exponential Distribtion\",color=\"red\")"
      ]
    },
    {
      "cell_type": "markdown",
      "metadata": {
        "id": "jfdw7nfSGR0q"
      },
      "source": [
        "#### Q3. (Optional)\n",
        "Combined Transformation Involving a Logarithmic Function\n",
        "\n",
        "Let $X \\sim \\mathcal{N}(0,1)$ and define a new random variable $Z = \\ln(|X| + 1)$.\n",
        "\n",
        "1. Use `torch.distributions` to simulate 10,000 samples of $X$, compute $Z$, and estimate its empirical distribution.\n",
        "2. Plot the histogram of $Z$ and compare it with the histogram of $X$.\n"
      ]
    },
    {
      "cell_type": "markdown",
      "metadata": {
        "id": "VVWk8_ETX0Gr"
      },
      "source": [
        "# 18. **Generating Random Numbers**"
      ]
    },
    {
      "cell_type": "markdown",
      "metadata": {
        "id": "XWT7YwNpX_B_"
      },
      "source": [
        "#### Q1. (**Mandatory**)\n",
        "\n",
        "(a) Generate 10,000 samples from a uniform distribution U(0,1).\n",
        "\n",
        "(b) Transform these samples to generate exponential random variables with parameter λ = 2.\n",
        "\n",
        "(c) Plot a histogram of the generated exponential random variables."
      ]
    },
    {
      "cell_type": "code",
      "execution_count": null,
      "metadata": {},
      "outputs": [
        {
          "data": {
            "text/html": [
              "<div>\n",
              "<style scoped>\n",
              "    .dataframe tbody tr th:only-of-type {\n",
              "        vertical-align: middle;\n",
              "    }\n",
              "\n",
              "    .dataframe tbody tr th {\n",
              "        vertical-align: top;\n",
              "    }\n",
              "\n",
              "    .dataframe thead th {\n",
              "        text-align: right;\n",
              "    }\n",
              "</style>\n",
              "<table border=\"1\" class=\"dataframe\">\n",
              "  <thead>\n",
              "    <tr style=\"text-align: right;\">\n",
              "      <th></th>\n",
              "      <th>Samples</th>\n",
              "    </tr>\n",
              "  </thead>\n",
              "  <tbody>\n",
              "    <tr>\n",
              "      <th>0</th>\n",
              "      <td>0.917040</td>\n",
              "    </tr>\n",
              "    <tr>\n",
              "      <th>1</th>\n",
              "      <td>0.936555</td>\n",
              "    </tr>\n",
              "    <tr>\n",
              "      <th>2</th>\n",
              "      <td>0.807037</td>\n",
              "    </tr>\n",
              "    <tr>\n",
              "      <th>3</th>\n",
              "      <td>0.495570</td>\n",
              "    </tr>\n",
              "    <tr>\n",
              "      <th>4</th>\n",
              "      <td>0.887024</td>\n",
              "    </tr>\n",
              "  </tbody>\n",
              "</table>\n",
              "</div>"
            ],
            "text/plain": [
              "    Samples\n",
              "0  0.917040\n",
              "1  0.936555\n",
              "2  0.807037\n",
              "3  0.495570\n",
              "4  0.887024"
            ]
          },
          "execution_count": 228,
          "metadata": {},
          "output_type": "execute_result"
        }
      ],
      "source": [
        "#(a)\n",
        "N = 10000\n",
        "dist6 = torch.distributions.Uniform(0,1)\n",
        "U = dist6.sample((N,))\n",
        "pd.DataFrame(U,columns=[\"Samples\"]).head()"
      ]
    },
    {
      "cell_type": "markdown",
      "metadata": {},
      "source": [
        "##### Part (b) Calculation\n",
        "<br> To tranform uniform random variable to exponential random variable we use the inverse transform method. In this method, we equate U to CDF of exponential distribution.\n",
        "\n",
        "Let U ~ Uniform(0,1).Then, the Uniform distribution is given by:\n",
        "\n",
        "$$\n",
        "F[X] =\n",
        "\\begin{cases}\n",
        "\\frac{1}{1-0}, & \\text{if } 0 \\leq x \\leq 1 \\\\\n",
        "0, & \\text{otherwise} \n",
        "\\end{cases}\n",
        "$$\n",
        "Let X ~ Exponential($ \\lambda $), where $ \\lambda = 2 $ is the rate paramter. It's PDF is:\n",
        "$$\n",
        "F_E[X] = \\lambda e^{-\\lambda x}\n",
        "$$\n",
        "\n",
        "The CDF of exponential distribution is: $$ F_E[X \\leq x] = 1 - e^{-\\lambda x} $$\n",
        "\n",
        "Equating U to CDF of exponential distribution: $$ U = 1 - e^{-\\lambda X} $$\n",
        "<br> On Solving for X, we get, </br> \n",
        "\n",
        "$$ X = \\frac{1}{\\lambda} \\ln{\\frac{1}{1-U}} $$\n",
        "Thus we will use the above transformation to transform the samples Uniform to exponential distribution"
      ]
    },
    {
      "cell_type": "code",
      "execution_count": null,
      "metadata": {},
      "outputs": [
        {
          "data": {
            "text/html": [
              "<div>\n",
              "<style scoped>\n",
              "    .dataframe tbody tr th:only-of-type {\n",
              "        vertical-align: middle;\n",
              "    }\n",
              "\n",
              "    .dataframe tbody tr th {\n",
              "        vertical-align: top;\n",
              "    }\n",
              "\n",
              "    .dataframe thead th {\n",
              "        text-align: right;\n",
              "    }\n",
              "</style>\n",
              "<table border=\"1\" class=\"dataframe\">\n",
              "  <thead>\n",
              "    <tr style=\"text-align: right;\">\n",
              "      <th></th>\n",
              "      <th>Samples</th>\n",
              "    </tr>\n",
              "  </thead>\n",
              "  <tbody>\n",
              "    <tr>\n",
              "      <th>0</th>\n",
              "      <td>1.244701</td>\n",
              "    </tr>\n",
              "    <tr>\n",
              "      <th>1</th>\n",
              "      <td>1.378788</td>\n",
              "    </tr>\n",
              "    <tr>\n",
              "      <th>2</th>\n",
              "      <td>0.822627</td>\n",
              "    </tr>\n",
              "    <tr>\n",
              "      <th>3</th>\n",
              "      <td>0.342163</td>\n",
              "    </tr>\n",
              "    <tr>\n",
              "      <th>4</th>\n",
              "      <td>1.090289</td>\n",
              "    </tr>\n",
              "  </tbody>\n",
              "</table>\n",
              "</div>"
            ],
            "text/plain": [
              "    Samples\n",
              "0  1.244701\n",
              "1  1.378788\n",
              "2  0.822627\n",
              "3  0.342163\n",
              "4  1.090289"
            ]
          },
          "execution_count": 229,
          "metadata": {},
          "output_type": "execute_result"
        }
      ],
      "source": [
        "#Part (b) Code\n",
        "expDistParam = 2\n",
        "X = (1/expDistParam)*np.log(1/(1-U))\n",
        "pd.DataFrame(X,columns=[\"Samples\"]).head()"
      ]
    },
    {
      "cell_type": "code",
      "execution_count": null,
      "metadata": {},
      "outputs": [
        {
          "data": {
            "text/plain": [
              "Text(0.5, 0.98, 'Transforming the Samples from Uniform to Exponential Distribution')"
            ]
          },
          "execution_count": 230,
          "metadata": {},
          "output_type": "execute_result"
        },
        {
          "data": {
            "image/png": "[encoded data removed]",
            "text/plain": [
              "<Figure size 1300x600 with 2 Axes>"
            ]
          },
          "metadata": {},
          "output_type": "display_data"
        }
      ],
      "source": [
        "#Part (c) Plotting the histogram of X\n",
        "fig,axes = plt.subplots(1,2,figsize=(13,6))\n",
        "axes[0].hist(U,color='red',label=\"Uniform\")\n",
        "axes[0].set_title(\"Uniform Distribution\")\n",
        "axes[0].set_xlabel(\"Random Variable (U) bins\")\n",
        "axes[0].set_ylabel(\"frequency\")\n",
        "axes[0].legend()\n",
        "axes[1].hist(X,color='blue',label=\"Tranformed\")\n",
        "axes[1].set_title(\"Exponential Distribution by Transformation\")\n",
        "axes[1].set_xlabel(\"Random Variable (X) bins\")\n",
        "axes[1].set_ylabel(\"frequency\")\n",
        "axes[1].legend()\n",
        "fig.suptitle(\"Transforming the Samples from Uniform to Exponential Distribution\")"
      ]
    },
    {
      "cell_type": "markdown",
      "metadata": {
        "id": "AIbKJPyGZXfq"
      },
      "source": [
        "#### Q2. (Optional)\n",
        "Given an exponential distribution with rate parameter λ=3.\n",
        "\n",
        "write a Python function that:\n",
        "\n",
        "(a) Generates a single exponential random variable using inverse transform sampling.\n",
        "Uses the transformation X=− 1/λ ln(1−U), where U is a uniform random number between 0 and 1 and returns the generated exponential random variable."
      ]
    },
    {
      "cell_type": "code",
      "execution_count": null,
      "metadata": {},
      "outputs": [
        {
          "data": {
            "text/html": [
              "<div>\n",
              "<style scoped>\n",
              "    .dataframe tbody tr th:only-of-type {\n",
              "        vertical-align: middle;\n",
              "    }\n",
              "\n",
              "    .dataframe tbody tr th {\n",
              "        vertical-align: top;\n",
              "    }\n",
              "\n",
              "    .dataframe thead th {\n",
              "        text-align: right;\n",
              "    }\n",
              "</style>\n",
              "<table border=\"1\" class=\"dataframe\">\n",
              "  <thead>\n",
              "    <tr style=\"text-align: right;\">\n",
              "      <th></th>\n",
              "      <th>Samples of Uniform</th>\n",
              "      <th>Samples of Transformed</th>\n",
              "    </tr>\n",
              "  </thead>\n",
              "  <tbody>\n",
              "    <tr>\n",
              "      <th>0</th>\n",
              "      <td>0.351727</td>\n",
              "      <td>0.144481</td>\n",
              "    </tr>\n",
              "    <tr>\n",
              "      <th>1</th>\n",
              "      <td>0.624701</td>\n",
              "      <td>0.326677</td>\n",
              "    </tr>\n",
              "    <tr>\n",
              "      <th>2</th>\n",
              "      <td>0.691860</td>\n",
              "      <td>0.392401</td>\n",
              "    </tr>\n",
              "    <tr>\n",
              "      <th>3</th>\n",
              "      <td>0.704149</td>\n",
              "      <td>0.405967</td>\n",
              "    </tr>\n",
              "    <tr>\n",
              "      <th>4</th>\n",
              "      <td>0.695757</td>\n",
              "      <td>0.396643</td>\n",
              "    </tr>\n",
              "    <tr>\n",
              "      <th>5</th>\n",
              "      <td>0.767776</td>\n",
              "      <td>0.486684</td>\n",
              "    </tr>\n",
              "    <tr>\n",
              "      <th>6</th>\n",
              "      <td>0.647109</td>\n",
              "      <td>0.347199</td>\n",
              "    </tr>\n",
              "    <tr>\n",
              "      <th>7</th>\n",
              "      <td>0.361072</td>\n",
              "      <td>0.149321</td>\n",
              "    </tr>\n",
              "    <tr>\n",
              "      <th>8</th>\n",
              "      <td>0.283821</td>\n",
              "      <td>0.111275</td>\n",
              "    </tr>\n",
              "    <tr>\n",
              "      <th>9</th>\n",
              "      <td>0.591793</td>\n",
              "      <td>0.298660</td>\n",
              "    </tr>\n",
              "  </tbody>\n",
              "</table>\n",
              "</div>"
            ],
            "text/plain": [
              "   Samples of Uniform  Samples of Transformed\n",
              "0            0.351727                0.144481\n",
              "1            0.624701                0.326677\n",
              "2            0.691860                0.392401\n",
              "3            0.704149                0.405967\n",
              "4            0.695757                0.396643\n",
              "5            0.767776                0.486684\n",
              "6            0.647109                0.347199\n",
              "7            0.361072                0.149321\n",
              "8            0.283821                0.111275\n",
              "9            0.591793                0.298660"
            ]
          },
          "execution_count": 231,
          "metadata": {},
          "output_type": "execute_result"
        }
      ],
      "source": [
        "def inverse_transform(U,lmbda):\n",
        "    return (-1/lmbda)*np.log(1-U)\n",
        "uDist = torch.distributions.Uniform(0,1)\n",
        "U = uDist.sample((N,))\n",
        "X = inverse_transform(U,3)\n",
        "both_samples = pd.DataFrame(data={\n",
        "    \"Samples of Uniform\": U,\n",
        "    \"Samples of Transformed\": X\n",
        "})\n",
        "both_samples.head(10)"
      ]
    },
    {
      "cell_type": "markdown",
      "metadata": {
        "id": "dOapArEGaWVe"
      },
      "source": [
        "#### Q3. (Optional)\n",
        " Write a Python function that:\n",
        "\n",
        "(a). Generates N random samples from a uniform distribution U(0,1) and transforms the samples into exponential random variables with rate λ=5 using inverse transform sampling.\n",
        "\n",
        "(b) Apply a nonlinear transformation Z = X² to each generated exponential random variable X.\n",
        "\n",
        "(c) Calculates and returns the following:\n",
        "\n",
        "    (a) The proportion of values in Z that exceed a threshold t (provided as a function parameter).\n",
        "\n",
        "    (b) The sample mean and sample variance of both X and Z."
      ]
    },
    {
      "cell_type": "code",
      "execution_count": null,
      "metadata": {},
      "outputs": [
        {
          "data": {
            "application/vnd.jupyter.widget-view+json": {
              "model_id": "0fd226bf665e4179aaf9a03c8083d506",
              "version_major": 2,
              "version_minor": 0
            },
            "text/plain": [
              "interactive(children=(RadioButtons(description='t parameter', options=(1000, 10000, 1000000), value=1000), Int…"
            ]
          },
          "metadata": {},
          "output_type": "display_data"
        },
        {
          "data": {
            "text/plain": [
              "<function __main__.performer(N, t)>"
            ]
          },
          "execution_count": 232,
          "metadata": {},
          "output_type": "execute_result"
        }
      ],
      "source": [
        "N = 1000\n",
        "def func(N,t):\n",
        "    #(a)\n",
        "    uDist2 = torch.distributions.Uniform(0,1)\n",
        "    lmbda = 5\n",
        "    U = uDist2.sample((N,))\n",
        "    X = inverse_transform(U,lmbda)\n",
        "    #(b) Applying Non linear transform\n",
        "    Z = X**2\n",
        "    #(c)(a)\n",
        "    Z_dummy = pd.DataFrame(Z,columns=['Samples'])\n",
        "    X_dummy = pd.DataFrame(X,columns=['Samples'])\n",
        "    portion = Z_dummy[Z_dummy['Samples'] > t].copy()\n",
        "    #(c)(b)\n",
        "    stats = pd.DataFrame(data={\n",
        "        \"X\": [X_dummy.mean().item(),X_dummy.var().item()],   \n",
        "        \"Z\": [Z_dummy.mean().item(),Z_dummy.var().item()]   \n",
        "    },index=[\"Mean\",\"Variance\"])\n",
        "    return portion,stats\n",
        "tSlider = widgets.IntSlider(min=0,max=10,step=0.01,description=\"t parameter\")\n",
        "Nradio = widgets.RadioButtons(options=[1000,10000,1000000],description=\"t parameter\")\n",
        "def performer(N,t):\n",
        "    portion,stats = func(N,t)\n",
        "    display(f\"Portion above {t} in Z is: \",portion)\n",
        "    display(f\"Stats of X and Z are: \",stats)\n",
        "interact(performer,N=Nradio,t=tSlider)"
      ]
    }
  ],
  "metadata": {
    "colab": {
      "collapsed_sections": [
        "lFX2mG1m9I2h",
        "HGzuLs8HtPU-",
        "PrIOv6XFSvCn",
        "VVWk8_ETX0Gr"
      ],
      "provenance": []
    },
    "kernelspec": {
      "display_name": "Python 3",
      "name": "python3"
    },
    "language_info": {
      "codemirror_mode": {
        "name": "ipython",
        "version": 3
      },
      "file_extension": ".py",
      "mimetype": "text/x-python",
      "name": "python",
      "nbconvert_exporter": "python",
      "pygments_lexer": "ipython3",
      "version": "3.11.5"
    }
  },
  "nbformat": 4,
  "nbformat_minor": 0
}
